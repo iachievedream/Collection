{
 "cells": [
  {
   "cell_type": "markdown",
   "metadata": {},
   "source": [
    "#多功能的 Requests\n",
    "#https://morvanzhou.github.io/tutorials/data-manipulation/scraping/3-01-requests/"
   ]
  },
  {
   "cell_type": "code",
   "execution_count": 29,
   "metadata": {},
   "outputs": [
    {
     "name": "stdout",
     "output_type": "stream",
     "text": [
      "http://www.baidu.com/s?wd=%E8%8E%AB%E7%83%A6Python\n"
     ]
    },
    {
     "data": {
      "text/plain": [
       "True"
      ]
     },
     "execution_count": 29,
     "metadata": {},
     "output_type": "execute_result"
    }
   ],
   "source": [
    "#網址搜尋方式\n",
    "import requests\n",
    "import webbrowser\n",
    "param = {\"wd\": \"莫烦Python\"}  # 搜索的信息\n",
    "r = requests.get('http://www.baidu.com/s', params=param)\n",
    "print(r.url)\n",
    "webbrowser.open(r.url)\n",
    "\n",
    "# http://www.baidu.com/s?wd=%E8%8E%AB%E7%83%A6Python\n",
    "#多功能的 Requests\n",
    "#https://morvanzhou.github.io/tutorials/data-manipulation/scraping/3-01-requests/"
   ]
  },
  {
   "cell_type": "code",
   "execution_count": 30,
   "metadata": {},
   "outputs": [
    {
     "name": "stdout",
     "output_type": "stream",
     "text": [
      "https://tw.mixrent.com/search.php?q=%E6%A1%83%E5%9C%92\n"
     ]
    },
    {
     "data": {
      "text/plain": [
       "True"
      ]
     },
     "execution_count": 30,
     "metadata": {},
     "output_type": "execute_result"
    }
   ],
   "source": [
    "#所需資料搜尋方式，住宿\n",
    "import requests\n",
    "import webbrowser\n",
    "param = {\"q\": \"桃園\"}  # 搜索的信息\n",
    "r = requests.get('https://tw.mixrent.com/search.php', params=param)\n",
    "print(r.url)\n",
    "webbrowser.open(r.url)\n",
    "\n",
    "#https://tw.mixrent.com/search.php?q=%E6%A1%83%E5%9C%92"
   ]
  },
  {
   "cell_type": "code",
   "execution_count": 66,
   "metadata": {},
   "outputs": [
    {
     "name": "stdout",
     "output_type": "stream",
     "text": [
      "https://tw.mixrent.com/search.php?q=%E6%A1%83%E5%9C%92\n",
      "$ 9500 全桃園當前最頂級、最豪華、最氣派全新套房 ------- 桃園市桃園區民族路236號10樓\n",
      "$ 18000 善美館▎近桃園婦女館 ------- 桃園市桃園區桃鶯路\n",
      "$ 15000 【桃園租超值2房】1144-冠倫大國 ------- 桃園市桃園區大有路\n",
      "$ 35000 近桃園高鐵~機捷A18~青埔國小住辦 ------- 桃園市大園區新生路四段\n",
      "$ 16000 整層出租近火車站+桃園農工+桃園巨蛋 ------- 桃園市桃園區成功路二段101號\n",
      "$ 8000 桃園市政府、桃園火車站，全新完工 生活機能優 ------- 桃園市桃園區中山路\n",
      "$ 6500 桃園開南一樓出租獨立套房~完善管理家俱電全配 ------- 桃園市蘆竹區新興街\n",
      "$ 6000 桃園街62號.近交流道及機場巴士站. ------- 桃園市蘆竹區桃園街62號\n",
      "$ 7500 火速出租♥桃園南豐街全新套房♥全新完工 ------- 桃園市桃園區南豐街160巷23弄4號\n",
      "$ 14000 [桃園/平鎮] 南勢平鎮分局透天 ------- 桃園市平鎮區上海路119巷\n"
     ]
    }
   ],
   "source": [
    "import requests\n",
    "from bs4 import BeautifulSoup\n",
    "\n",
    "param = {\"q\": \"桃園\"}  # 搜索的信息\n",
    "r = requests.get('https://tw.mixrent.com/search.php', params=param)\n",
    "print(r.url)#列印當頁網址\n",
    "\n",
    "dom = requests.get(r.url).text #.text.未有太大差別\n",
    "soup = BeautifulSoup(dom, 'html')\n",
    "month = soup.find_all('div', {\"class\": \"rental_result\"}) #在div區塊中，class=rental_result抓取資料\n",
    "for ele in month:\n",
    "    print(\n",
    "        ele.find('span', {\"class\": \"label label-primary\"}).text,\n",
    "        ele.find('a', {\"id\":\"house_link\"}).text,\n",
    "        \"-------\",\n",
    "        ele.find('div', {\"class\":\"house_address\"}).text\n",
    "    )\n",
    "\n",
    "#https://tw.mixrent.com/search.php?q=%E5%8F%B0%E5%8C%97%E5%B8%82%E5%AE%BF%E8%88%8D"
   ]
  },
  {
   "cell_type": "code",
   "execution_count": 1,
   "metadata": {},
   "outputs": [
    {
     "name": "stdout",
     "output_type": "stream",
     "text": [
      "https://tw.mixrent.com/search.php?q=%E5%8F%B0%E5%8C%97%E5%B8%82%E5%AE%BF%E8%88%8D&pmin=&pmax=&smin=&smax=&page=1\n",
      "https://tw.mixrent.com/search.php?q=%E5%8F%B0%E5%8C%97%E5%B8%82%E5%AE%BF%E8%88%8D&pmin=&pmax=&smin=&smax=&page=2\n",
      "https://tw.mixrent.com/search.php?q=%E5%8F%B0%E5%8C%97%E5%B8%82%E5%AE%BF%E8%88%8D&pmin=&pmax=&smin=&smax=&page=3\n",
      "https://tw.mixrent.com/search.php?q=%E5%8F%B0%E5%8C%97%E5%B8%82%E5%AE%BF%E8%88%8D&pmin=&pmax=&smin=&smax=&page=4\n",
      "https://tw.mixrent.com/search.php?q=%E5%8F%B0%E5%8C%97%E5%B8%82%E5%AE%BF%E8%88%8D&pmin=&pmax=&smin=&smax=&page=5\n",
      "https://tw.mixrent.com/search.php?q=%E5%8F%B0%E5%8C%97%E5%B8%82%E5%AE%BF%E8%88%8D&pmin=&pmax=&smin=&smax=&page=6\n"
     ]
    }
   ],
   "source": [
    "#翻頁爬取網頁\n",
    "import requests, bs4\n",
    "for page in range(1,7): \n",
    "    url = 'https://tw.mixrent.com/search.php?q=%E5%8F%B0%E5%8C%97%E5%B8%82%E5%AE%BF%E8%88%8D&pmin=&pmax=&smin=&smax=&page=' + str(page)\n",
    "    r = requests.get(url)\n",
    "    r.encoding = 'utf-8'\n",
    "    soup = bs4.BeautifulSoup(r.text, 'lxml')\n",
    "    company=soup.select('.aw-question-content p a')\n",
    "    a_text = [c.get_text()for c in company]\n",
    "    print(r.url)#列印當頁網址\n"
   ]
  },
  {
   "cell_type": "code",
   "execution_count": 8,
   "metadata": {},
   "outputs": [
    {
     "name": "stdout",
     "output_type": "stream",
     "text": [
      "http://www.99kubo.tv/vod-play-id-72568-sid-2-pid-1-flv.html\n",
      "http://www.99kubo.tv/vod-play-id-72568-sid-2-pid-2-flv.html\n",
      "http://www.99kubo.tv/vod-play-id-72568-sid-2-pid-3-flv.html\n",
      "http://www.99kubo.tv/vod-play-id-72568-sid-2-pid-4-flv.html\n",
      "http://www.99kubo.tv/vod-play-id-72568-sid-2-pid-5-flv.html\n",
      "http://www.99kubo.tv/vod-play-id-72568-sid-2-pid-6-flv.html\n",
      "http://www.99kubo.tv/vod-play-id-72568-sid-2-pid-7-flv.html\n",
      "http://www.99kubo.tv/vod-play-id-72568-sid-2-pid-8-flv.html\n",
      "http://www.99kubo.tv/vod-play-id-72568-sid-2-pid-9-flv.html\n",
      "http://www.99kubo.tv/vod-play-id-72568-sid-2-pid-10-flv.html\n",
      "http://www.99kubo.tv/vod-play-id-72568-sid-2-pid-11-flv.html\n",
      "http://www.99kubo.tv/vod-play-id-72568-sid-2-pid-12-flv.html\n",
      "http://www.99kubo.tv/vod-play-id-72568-sid-2-pid-13-flv.html\n",
      "http://www.99kubo.tv/vod-play-id-72568-sid-2-pid-14-flv.html\n"
     ]
    }
   ],
   "source": [
    "#翻頁爬取網頁，網址複雜\n",
    "import requests, bs4\n",
    "for page in range(1,15): \n",
    "    url = 'http://www.99kubo.tv/vod-play-id-72568-sid-2-pid-'+str(page)+'-flv.html'\n",
    "    r = requests.get(url)\n",
    "    r.encoding = 'utf-8'\n",
    "    soup = bs4.BeautifulSoup(r.text, 'lxml')\n",
    "    company=soup.select('.aw-question-content p a')\n",
    "    a_text = [c.get_text()for c in company]\n",
    "    print(r.url)#列印當頁網址\n"
   ]
  },
  {
   "cell_type": "code",
   "execution_count": 6,
   "metadata": {},
   "outputs": [
    {
     "name": "stdout",
     "output_type": "stream",
     "text": [
      "https://tw.mixrent.com/search.php?q=%E6%A1%83%E5%9C%92&pmin=&pmax=&smin=&smax=&page=1\n",
      "$ 9500 全桃園當前最頂級、最豪華、最氣派全新套房 ------- 桃園市桃園區民族路236號10樓\n",
      "$ 18000 善美館▎近桃園婦女館 ------- 桃園市桃園區桃鶯路\n",
      "$ 15000 【桃園租超值2房】1144-冠倫大國 ------- 桃園市桃園區大有路\n",
      "$ 35000 近桃園高鐵~機捷A18~青埔國小住辦 ------- 桃園市大園區新生路四段\n",
      "$ 16000 整層出租近火車站+桃園農工+桃園巨蛋 ------- 桃園市桃園區成功路二段101號\n",
      "$ 8000 桃園市政府、桃園火車站，全新完工 生活機能優 ------- 桃園市桃園區中山路\n",
      "$ 6500 桃園開南一樓出租獨立套房~完善管理家俱電全配 ------- 桃園市蘆竹區新興街\n",
      "$ 6000 桃園街62號.近交流道及機場巴士站. ------- 桃園市蘆竹區桃園街62號\n",
      "$ 7500 火速出租♥桃園南豐街全新套房♥全新完工 ------- 桃園市桃園區南豐街160巷23弄4號\n",
      "$ 14000 [桃園/平鎮] 南勢平鎮分局透天 ------- 桃園市平鎮區上海路119巷\n",
      "https://tw.mixrent.com/search.php?q=%E6%A1%83%E5%9C%92&pmin=&pmax=&smin=&smax=&page=2\n",
      "$ 10000 桃園市生活機能絕佳交通便利全新物件 ------- 桃園市桃園區信義街\n",
      "$ 28000 桃園蘆竹區(適用美容美髮) ------- 桃園市蘆竹區大新四街66號\n",
      "$ 7500 火車站*龜山工業區*近桃園巨蛋*優質套房 ------- 桃園市龜山區頂興路37巷\n",
      "$ 33000 桃園火車站辦公室3F ------- 桃園市桃園區南華街60號3樓\n",
      "$ 58000 ★㊣中正路大廟旁【全新優質二樓店面】★獨立進出~桃園佳玲~ ------- 桃園市桃園區中正路\n",
      "$ 27000 桃園法院一樓店辦 ------- 桃園市桃園區守法路\n",
      "$ 12000 桃園居易美3房 ------- 桃園市八德區\n",
      "$ 21000 桃園後火車站三房車全新裝潢(含車位家具家電管理費) ------- 桃園市桃園區樹仁三街\n",
      "$ 6000 桃園市火車站商圈套房租金6仟元 ------- 桃園市桃園區復興路83號\n",
      "$ 15000 吉品社區 ▎近桃園夜市 ------- 桃園市桃園區埔新路\n"
     ]
    }
   ],
   "source": [
    "#翻頁爬取網頁資料\n",
    "import requests\n",
    "from bs4 import BeautifulSoup\n",
    "\n",
    "for page in range(1,3): \n",
    "    url = 'https://tw.mixrent.com/search.php?q=%E6%A1%83%E5%9C%92&pmin=&pmax=&smin=&smax=&page=' + str(page)\n",
    "    print(url)#列印當頁網址\n",
    "\n",
    "    dom = requests.get(url).text #.text.未有太大差別\n",
    "    soup = BeautifulSoup(dom, 'html')\n",
    "    month = soup.find_all('div', {\"class\": \"rental_result\"}) #在div區塊中，class=rental_result抓取資料\n",
    "    for ele in month:\n",
    "        print(\n",
    "            ele.find('span', {\"class\": \"label label-primary\"}).text,\n",
    "            ele.find('a', {\"id\":\"house_link\"}).text,\n",
    "            \"-------\",\n",
    "            ele.find('div', {\"class\":\"house_address\"}).text\n",
    "        )"
   ]
  },
  {
   "cell_type": "markdown",
   "metadata": {},
   "source": [
    "Python爬取数据并写入MySQL数据库  (尚未練習完全)\n",
    "https://blog.csdn.net/Oscer2016/article/details/70257956"
   ]
  },
  {
   "cell_type": "code",
   "execution_count": 1,
   "metadata": {},
   "outputs": [
    {
     "ename": "ModuleNotFoundError",
     "evalue": "No module named 'MySQLdb'",
     "output_type": "error",
     "traceback": [
      "\u001b[1;31m---------------------------------------------------------------------------\u001b[0m",
      "\u001b[1;31mModuleNotFoundError\u001b[0m                       Traceback (most recent call last)",
      "\u001b[1;32m<ipython-input-1-69dba49eba4b>\u001b[0m in \u001b[0;36m<module>\u001b[1;34m\u001b[0m\n\u001b[0;32m      4\u001b[0m \u001b[1;32mimport\u001b[0m \u001b[0mrequests\u001b[0m\u001b[1;33m\u001b[0m\u001b[1;33m\u001b[0m\u001b[0m\n\u001b[0;32m      5\u001b[0m \u001b[1;32mfrom\u001b[0m \u001b[0mbs4\u001b[0m \u001b[1;32mimport\u001b[0m \u001b[0mBeautifulSoup\u001b[0m\u001b[1;33m\u001b[0m\u001b[1;33m\u001b[0m\u001b[0m\n\u001b[1;32m----> 6\u001b[1;33m \u001b[1;32mimport\u001b[0m \u001b[0mMySQLdb\u001b[0m\u001b[1;33m\u001b[0m\u001b[1;33m\u001b[0m\u001b[0m\n\u001b[0m\u001b[0;32m      7\u001b[0m \u001b[1;33m\u001b[0m\u001b[0m\n\u001b[0;32m      8\u001b[0m \u001b[0mprint\u001b[0m\u001b[1;33m(\u001b[0m\u001b[1;34m'连接到mysql服务器...'\u001b[0m\u001b[1;33m)\u001b[0m\u001b[1;33m\u001b[0m\u001b[1;33m\u001b[0m\u001b[0m\n",
      "\u001b[1;31mModuleNotFoundError\u001b[0m: No module named 'MySQLdb'"
     ]
    }
   ],
   "source": [
    "#!/usr/bin/env python\n",
    "# coding=utf-8\n",
    "\n",
    "import requests\n",
    "from bs4 import BeautifulSoup\n",
    "import MySQLdb\n",
    "\n",
    "print('连接到mysql服务器...')\n",
    "db = MySQLdb.connect(\"localhost\",\"hp\",\"Hp12345.\",\"TESTDB\")\n",
    "print('连接上了!')\n",
    "cursor = db.cursor()\n",
    "cursor.execute(\"DROP TABLE IF EXISTS COLOR\")\n",
    "sql = \"\"\"CREATE TABLE COLOR (\n",
    "        Color CHAR(20) NOT NULL,\n",
    "        Value CHAR(10),\n",
    "        Style CHAR(50) )\"\"\"\n",
    "\n",
    "cursor.execute(sql)\n",
    "\n",
    "hdrs = {'User-Agent':'Mozilla/5.0 (X11; Fedora; Linux x86_64) AppleWebKit/537.36 (KHTML, like Gecko)'}\n",
    "\n",
    "url = \"http://html-color-codes.info/color-names/\"\n",
    "\n",
    "r = requests.get(url, headers = hdrs)\n",
    "soup = BeautifulSoup(r.content.decode('gbk', 'ignore'), 'lxml')\n",
    "trs = soup.find_all('tr')   # 获取全部tr标签成为一个列表\n",
    "for tr in trs:              # 遍历列表里所有的tr标签单项\n",
    "    style = tr.get('style') # 获取每个tr标签里的属性style\n",
    "    tds = tr.find_all('td') # 将每个tr标签下的td标签获取为列表\n",
    "    td = [x for x in tds]   # 获取的列表\n",
    "    name = td[1].text.strip()       # 直接从列表里取值\n",
    "    hex = td[2].text.strip()\n",
    "    # print u'颜色: ' + name + u'颜色值: '+ hex + u'背景色样式: ' + style\n",
    "    # print 'color: ' + name + '\\tvalue: '+ hex + '\\tstyle: ' + style\n",
    "    insert_color = (\"INSERT INTO COLOR(Color,Value,Style)\" \"VALUES(%s,%s,%s)\")\n",
    "    data_color = (name, hex, style)\n",
    "    cursor.execute(insert_color, data_color)\n",
    "    db.commit()\n",
    "    # print '******完成此条插入!' "
   ]
  },
  {
   "cell_type": "code",
   "execution_count": null,
   "metadata": {},
   "outputs": [],
   "source": []
  }
 ],
 "metadata": {
  "kernelspec": {
   "display_name": "Python 3",
   "language": "python",
   "name": "python3"
  },
  "language_info": {
   "codemirror_mode": {
    "name": "ipython",
    "version": 3
   },
   "file_extension": ".py",
   "mimetype": "text/x-python",
   "name": "python",
   "nbconvert_exporter": "python",
   "pygments_lexer": "ipython3",
   "version": "3.7.1"
  }
 },
 "nbformat": 4,
 "nbformat_minor": 2
}
