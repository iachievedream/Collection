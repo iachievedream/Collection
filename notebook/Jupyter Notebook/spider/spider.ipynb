{
 "cells": [
  {
   "cell_type": "markdown",
   "metadata": {},
   "source": [
    "[爬蟲實戰] 如何爬取圖片以建立慾望之牆?\n",
    "https://www.youtube.com/watch?v=9unqUH0PYCI"
   ]
  },
  {
   "cell_type": "code",
   "execution_count": 3,
   "metadata": {},
   "outputs": [
    {
     "name": "stdout",
     "output_type": "stream",
     "text": [
      "<!DOCTYPE html>\n",
      "\n",
      "<html>\n",
      "<head>\n",
      "\t<meta charset=\"UTF-8\" />\n",
      "\t<title>網頁名稱-python crawler</title>\n",
      "\t<style>\n",
      "\t.abc {\n",
      "\t\tcolor: blue;\n",
      "\t\tfont-size: 40px;\t\n",
      "\t}\n",
      "\n",
      "\t#i-am-id {\n",
      "\t\tbackground-color: LightCyan;\n",
      "\t}\n",
      "\n",
      "\ttable, th, td {\n",
      "\t\tborder: 1px solid black;\n",
      "\t    border-collapse: collapse;\n",
      "\t}\n",
      "\tth, td {\n",
      "\t\tpadding: 10px;\n",
      "\t}\n",
      "\t</style>\n",
      "</head>\n",
      "<body>\n",
      "\t<h1>Python 爬蟲實戰</h1>\n",
      "\t<h2>這是 h2 標籤的內容</h2>\n",
      "\t<h3>這是 h3 標籤的內容</h3>\n",
      "\n",
      "\t<p title=\"i-am-title\">這是 p 標籤的內容</p>\n",
      "\n",
      "\t<div> \n",
      "\t這是 div 標籤的內容，\n",
      "\t即使換行寫，網頁顯示出的文字一樣是不會換行\n",
      "\t</div>\n",
      "\n",
      "\t<p>但如果用了 br 標籤 <br/> 就可以順利斷行了</p>\n",
      "\t\n",
      "\t<div class = \"zzz\" id = \"id1\">我是有著屬性 class=\"zzz\" 的標籤內容</div>\n",
      "\t<p hidden>python_crawler</p>\n",
      "\t<div id = \"value-of-attr\">\n",
      "\t我是有著屬性 id=\"value-of-attr\" 的標籤內容\n",
      "\t\n",
      "\t\t<table id = \"i-am-id\">\n",
      "\t\t  <tr>\n",
      "\t\t\t<th>標頭 1 (table-header)</th>\n",
      "\t\t\t<th>標頭 2 (table-header)</th>\n",
      "\t\t\t<th>標頭 3 (table-header)</th>\n",
      "\t\t\t<th>標頭 4 (table-header)</th>\n",
      "\t\t  </tr>\n",
      "\t\t  <tr>\n",
      "\t\t\t<td> 列2 欄1 </td>\n",
      "\t\t\t<td class = \"zzz\"> 列2 欄2 (我的屬性 class=\"zzz\") </td>\n",
      "\t\t\t<td> \n",
      "\t\t\t\t<a href = \"http://www.yahoo.com.tw\">列2 欄3 (我是 a 標籤，屬性 href=網址) </a> \n",
      "\t\t\t</td>\n",
      "\t\t\t<td> \n",
      "\t\t\t\t<a href = \"http://foundation.datasci.tw/\">列2 欄4 (資料協會) </a>  \n",
      "\t\t\t</td>\n",
      "\t\t  </tr>\n",
      "\t\t  <tr>\n",
      "\t\t\t<td value = \"5566\">列3 欄1 </td>\n",
      "\t\t\t<td>列3 欄2\n",
      "\t\t\t\t<ol>\n",
      "\t\t\t\t\t<li class = \"zz\">我是 li 標籤 (列表)，屬性 class=\"zz\" </li>\n",
      "\t\t\t\t\t<li> 第二個 li 標籤 </li>\n",
      "\t\t\t\t</ol>\n",
      "\t\t\t</td>\n",
      "\t\t\t<td>\n",
      "\t\t\t\t<a href = \"http://foundation.datasci.tw/python-crawling-170813/\" id = \"hyperlink\"> 列3 欄3 (資料協會-python 爬蟲實戰)</a>\n",
      "\t\t\t</td>\n",
      "\t\t\t<td class = \"zzzz\">列3 欄4 (我的屬性 class=\"zzzz\")</td>\n",
      "\t\t  </tr>\n",
      "\n",
      "\t\t</table>\n",
      "\t</div>\n",
      "\n",
      "\t<p>python_crawler</p>\n",
      "\n",
      "</body>\n",
      "</html>\n"
     ]
    }
   ],
   "source": [
    "#[爬蟲實戰] 如何爬取圖片以建立慾望之牆?\n",
    "\n",
    "from bs4 import BeautifulSoup\n",
    "import requests\n",
    "res =requests.get(\"https://jimmy15923.github.io/example_page\")\n",
    "print (res.text)"
   ]
  },
  {
   "cell_type": "code",
   "execution_count": null,
   "metadata": {},
   "outputs": [],
   "source": []
  }
 ],
 "metadata": {
  "kernelspec": {
   "display_name": "Python 3",
   "language": "python",
   "name": "python3"
  },
  "language_info": {
   "codemirror_mode": {
    "name": "ipython",
    "version": 3
   },
   "file_extension": ".py",
   "mimetype": "text/x-python",
   "name": "python",
   "nbconvert_exporter": "python",
   "pygments_lexer": "ipython3",
   "version": "3.7.0"
  }
 },
 "nbformat": 4,
 "nbformat_minor": 2
}
