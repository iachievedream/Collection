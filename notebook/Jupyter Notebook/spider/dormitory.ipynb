{
 "cells": [
  {
   "cell_type": "code",
   "execution_count": 1,
   "metadata": {},
   "outputs": [
    {
     "name": "stdout",
     "output_type": "stream",
     "text": [
      "\n",
      "住辦店面五大房四衛三廳一倉庫\n",
      "\n",
      "\n",
      "大管家 - http://www.chrb.com.tw/0079451.html\n",
      "\n",
      "\n",
      "[限女/台北/古亭]\n",
      "\n",
      "\n",
      "PTT雅房版 - https://www.ptt.cc/bbs/Rent_ya/M.1544425356.A.AC9.html\n",
      "\n",
      "\n",
      "優質溫泉湯池景觀宅\n",
      "\n",
      "\n",
      "591 - https://rent.591.com.tw/rent-detail-7076827.html\n",
      "\n",
      "\n",
      "半伴（後山埤）ShareHouse\n",
      "\n",
      "\n",
      "591 - https://rent.591.com.tw/rent-detail-7010845.html\n",
      "\n",
      "\n",
      "蘇州庭院5F超幽靜適合全家福空間超大\n",
      "\n",
      "\n",
      "591 - https://rent.591.com.tw/rent-detail-7105526.html\n",
      "\n",
      "\n",
      "[限女]中和環球-頂加不悶熱寬敞舒適\n",
      "\n",
      "\n",
      "591 - https://rent.591.com.tw/rent-detail-7121306.html\n",
      "\n",
      "\n",
      "東區靜巷店辦近國父紀念館適咖啡輕食事務所\n",
      "\n",
      "\n",
      "591 - https://rent.591.com.tw/rent-detail-7140918.html\n",
      "\n",
      "\n",
      "明亮溫馨套房-近師大本部捷運台電大樓站\n",
      "\n",
      "\n",
      "591 - https://rent.591.com.tw/rent-detail-7100513.html\n",
      "\n",
      "\n",
      "張媽媽學舍＊套房出租\n",
      "\n",
      "\n",
      "台灣租屋網 - http://detail.twhouses.com.tw/House/Rent/13875575\n",
      "\n",
      "\n",
      "「光輝社區」周遭生活機能完整鬧中取靜\n",
      "\n",
      "\n",
      "591 - https://rent.591.com.tw/rent-detail-5160639.html\n",
      "\n"
     ]
    },
    {
     "data": {
      "text/plain": [
       "'\\nprint(html)--列印全部html\\n\\n#全部表格資料\\nsoup = BeautifulSoup(html, features=\\'lxml\\')\\n# use class to narrow search\\nmonth = soup.find_all(\\'div\\', {\"id\": \"search_box\"})\\nfor m in month:\\n    print(m.get_text())\\n'"
      ]
     },
     "execution_count": 1,
     "metadata": {},
     "output_type": "execute_result"
    }
   ],
   "source": [
    "#台北市宿舍租屋資訊\n",
    "\n",
    "#爬取全部原始碼\n",
    "from bs4 import BeautifulSoup\n",
    "from urllib.request import urlopen\n",
    "\n",
    "html = urlopen(\"https://tw.mixrent.com/search.php?q=%E5%8F%B0%E5%8C%97%E5%B8%82%E5%AE%BF%E8%88%8D&pmin=&pmax=&smin=&smax=&page=1\").read().decode('utf-8')\n",
    "soup = BeautifulSoup(html, features='lxml')\n",
    "# use class to narrow search\n",
    "month = soup.find_all('div', {\"class\": \"col-xs-12 col-sm-10\"})\n",
    "for m in month:\n",
    "    print(m.get_text())\n",
    "\n",
    "\"\"\"\n",
    "print(html)--列印全部html\n",
    "\n",
    "#全部表格資料\n",
    "soup = BeautifulSoup(html, features='lxml')\n",
    "# use class to narrow search\n",
    "month = soup.find_all('div', {\"id\": \"search_box\"})\n",
    "for m in month:\n",
    "    print(m.get_text())\n",
    "\"\"\""
   ]
  },
  {
   "cell_type": "code",
   "execution_count": 3,
   "metadata": {
    "scrolled": true
   },
   "outputs": [
    {
     "name": "stdout",
     "output_type": "stream",
     "text": [
      "$ 100000\n",
      "$ 7400\n",
      "$ 24000\n",
      "$ 6500\n",
      "$ 5000\n",
      "$ 28000\n",
      "$ 6800\n",
      "$ 13000\n",
      "$ 10000\n",
      "$ 10000\n"
     ]
    },
    {
     "data": {
      "text/plain": [
       "'\\n#台北市宿舍租屋房價\\n#爬取全部原始碼\\nfrom bs4 import BeautifulSoup\\nfrom urllib.request import urlopen\\n\\nfor i in range(1,6):\\n    html = urlopen(\"https://tw.mixrent.com/search.php?q=%E5%8F%B0%E5%8C%97%E5%B8%82%E5%AE%BF%E8%88%8D&pmin=&pmax=&smin=&smax=&page=\"+\"i\").read().decode(\\'utf-8\\')\\n    soup = BeautifulSoup(html, features=\\'lxml\\')\\n    # use class to narrow search \\n    month = soup.find_all(\\'span\\', {\"class\": \"label label-primary\"})\\n    for m in month:\\n        print(m.get_text())    \\n*****\\nprint(html)--列印全部html\\n\\n#全部表格資料\\nsoup = BeautifulSoup(html, features=\\'lxml\\')\\n# use class to narrow search\\nmonth = soup.find_all(\\'div\\', {\"id\": \"search_box\"})\\nfor m in month:\\n    print(m.get_text())\\n'"
      ]
     },
     "execution_count": 3,
     "metadata": {},
     "output_type": "execute_result"
    }
   ],
   "source": [
    "#台北市宿舍租屋房價\n",
    "#爬取全部原始碼\n",
    "from bs4 import BeautifulSoup\n",
    "from urllib.request import urlopen\n",
    "\n",
    "html = urlopen(\"https://tw.mixrent.com/search.php?q=%E5%8F%B0%E5%8C%97%E5%B8%82%E5%AE%BF%E8%88%8D&pmin=&pmax=&smin=&smax=&page=1\").read().decode('utf-8')\n",
    "soup = BeautifulSoup(html, features='lxml')\n",
    "# use class to narrow search \n",
    "month = soup.find_all('span', {\"class\": \"label label-primary\"})\n",
    "for m in month:\n",
    "    print(m.get_text())\n",
    "\n",
    "\"\"\"\n",
    "#台北市宿舍租屋房價\n",
    "#爬取全部原始碼\n",
    "from bs4 import BeautifulSoup\n",
    "from urllib.request import urlopen\n",
    "\n",
    "for i in range(1,6):\n",
    "    html = urlopen(\"https://tw.mixrent.com/search.php?q=%E5%8F%B0%E5%8C%97%E5%B8%82%E5%AE%BF%E8%88%8D&pmin=&pmax=&smin=&smax=&page=\"+\"i\").read().decode('utf-8')\n",
    "    soup = BeautifulSoup(html, features='lxml')\n",
    "    # use class to narrow search \n",
    "    month = soup.find_all('span', {\"class\": \"label label-primary\"})\n",
    "    for m in month:\n",
    "        print(m.get_text())    \n",
    "*****\n",
    "print(html)--列印全部html\n",
    "\n",
    "#全部表格資料\n",
    "soup = BeautifulSoup(html, features='lxml')\n",
    "# use class to narrow search\n",
    "month = soup.find_all('div', {\"id\": \"search_box\"})\n",
    "for m in month:\n",
    "    print(m.get_text())\n",
    "\"\"\""
   ]
  },
  {
   "cell_type": "code",
   "execution_count": 2,
   "metadata": {
    "scrolled": false
   },
   "outputs": [
    {
     "name": "stdout",
     "output_type": "stream",
     "text": [
      "東區靜巷店辦近國父紀念館適咖啡輕食事務所 $ 100000\n",
      "陽明山行旅優質五星級套房(兼社會住宅) $ 7400\n",
      "優質溫泉湯池景觀宅 $ 24000\n",
      "「光輝社區」周遭生活機能完整鬧中取靜 $ 6500\n",
      "[限女/台北/古亭] $ 5000\n",
      "住辦店面五大房四衛三廳一倉庫 $ 28000\n",
      "張媽媽學舍＊套房出租 $ 6800\n",
      "蘇州庭院5F超幽靜適合全家福空間超大 $ 13000\n",
      "半伴（後山埤）ShareHouse $ 10000\n",
      "明亮溫馨套房-近師大本部捷運台電大樓站 $ 10000\n"
     ]
    },
    {
     "data": {
      "text/plain": [
       "'\\n#新聞焦點\\nimport requests\\nfrom bs4 import BeautifulSoup\\n\\ndef main():\\n    for i in range(1,6):\\n        dom = requests.get(\"https://tw.mixrent.com/search.php?q=%E5%8F%B0%E5%8C%97%E5%B8%82%E5%AE%BF%E8%88%8D&pmin=&pmax=&smin=&smax=&page=\"+\"i\").text\\n        soup = BeautifulSoup(dom, \\'html\\')\\n        month = soup.find_all(\\'div\\', {\"class\": \"rental_result\"})\\n        for ele in month:\\n            print(\\n                ele.find(\\'a\\', \\'house_title\\').text,\\n                ele.find(\\'span\\', \\'label label-primary\\').text\\n            )  \\nif __name__ == \\'__main__\\':\\n    main()\\n'"
      ]
     },
     "execution_count": 2,
     "metadata": {},
     "output_type": "execute_result"
    }
   ],
   "source": [
    "#新聞焦點\n",
    "import requests\n",
    "from bs4 import BeautifulSoup\n",
    "\n",
    "\n",
    "def main():\n",
    "    dom = requests.get('https://tw.mixrent.com/search.php?q=%E5%8F%B0%E5%8C%97%E5%B8%82%E5%AE%BF%E8%88%8D&pmin=&pmax=&smin=&smax=&page=1').text\n",
    "    soup = BeautifulSoup(dom, 'html')\n",
    "    month = soup.find_all('div', {\"class\": \"rental_result\"})\n",
    "    for ele in month:\n",
    "        print(\n",
    "            ele.find('a', 'house_title').text,\n",
    "            ele.find('span', 'label label-primary').text\n",
    "        )\n",
    "        \n",
    "if __name__ == '__main__':\n",
    "    main()\n",
    "    \n",
    "    \n",
    "\"\"\"\n",
    "#新聞焦點\n",
    "import requests\n",
    "from bs4 import BeautifulSoup\n",
    "\n",
    "def main():\n",
    "    for i in range(1,6):\n",
    "        dom = requests.get(\"https://tw.mixrent.com/search.php?q=%E5%8F%B0%E5%8C%97%E5%B8%82%E5%AE%BF%E8%88%8D&pmin=&pmax=&smin=&smax=&page=\"+\"i\").text\n",
    "        soup = BeautifulSoup(dom, 'html')\n",
    "        month = soup.find_all('div', {\"class\": \"rental_result\"})\n",
    "        for ele in month:\n",
    "            print(\n",
    "                ele.find('a', 'house_title').text,\n",
    "                ele.find('span', 'label label-primary').text\n",
    "            )  \n",
    "if __name__ == '__main__':\n",
    "    main()\n",
    "\"\"\""
   ]
  },
  {
   "cell_type": "code",
   "execution_count": 4,
   "metadata": {},
   "outputs": [
    {
     "name": "stdout",
     "output_type": "stream",
     "text": [
      "蘇州庭院5F超幽靜適合全家福空間超大 $ 13000\n",
      "[限女]中和環球-頂加不悶熱寬敞舒適 $ 5800\n",
      "半伴（後山埤）ShareHouse $ 10000\n",
      "陽明山行旅優質五星級套房(兼社會住宅) $ 7400\n",
      "「光輝社區」周遭生活機能完整鬧中取靜 $ 6500\n",
      "[限女/台北/古亭] $ 5000\n",
      "住辦店面五大房四衛三廳一倉庫 $ 28000\n",
      "張媽媽學舍＊套房出租 $ 6800\n",
      "東區靜巷店辦近國父紀念館適咖啡輕食事務所 $ 100000\n",
      "明亮溫馨套房-近師大本部捷運台電大樓站 $ 10000\n"
     ]
    },
    {
     "data": {
      "text/plain": [
       "'\\n#新聞焦點\\nimport requests\\nfrom bs4 import BeautifulSoup\\n\\ndef main():\\n    for i in range(1,6):\\n        dom = requests.get(\"https://tw.mixrent.com/search.php?q=%E5%8F%B0%E5%8C%97%E5%B8%82%E5%AE%BF%E8%88%8D&pmin=&pmax=&smin=&smax=&page=\"+\"i\").text\\n        soup = BeautifulSoup(dom, \\'html\\')\\n        month = soup.find_all(\\'div\\', {\"class\": \"rental_result\"})\\n        for ele in month:\\n            print(\\n                ele.find(\\'a\\', \\'house_title\\').text,\\n                ele.find(\\'span\\', \\'label label-primary\\').text\\n            )  \\nif __name__ == \\'__main__\\':\\n    main()\\n'"
      ]
     },
     "execution_count": 4,
     "metadata": {},
     "output_type": "execute_result"
    }
   ],
   "source": [
    "#新聞焦點\n",
    "import requests\n",
    "from bs4 import BeautifulSoup\n",
    "\n",
    "\n",
    "def main():\n",
    "    dom = requests.get('https://tw.mixrent.com/search.php?q=%E5%8F%B0%E5%8C%97%E5%B8%82%E5%AE%BF%E8%88%8D&pmin=&pmax=&smin=&smax=&page=1').text\n",
    "    soup = BeautifulSoup(dom, 'html')\n",
    "    month = soup.find_all('div', {\"class\": \"rental_result\"})\n",
    "    for ele in month:\n",
    "        print(\n",
    "            ele.find('a', {\"id\":\"house_link\"}).text,\n",
    "            ele.find('span', {\"class\": \"label label-primary\"}).text\n",
    "        )\n",
    "        \n",
    "if __name__ == '__main__':\n",
    "    main()\n",
    "    \n",
    "    \n",
    "\"\"\"\n",
    "#新聞焦點\n",
    "import requests\n",
    "from bs4 import BeautifulSoup\n",
    "\n",
    "def main():\n",
    "    for i in range(1,6):\n",
    "        dom = requests.get(\"https://tw.mixrent.com/search.php?q=%E5%8F%B0%E5%8C%97%E5%B8%82%E5%AE%BF%E8%88%8D&pmin=&pmax=&smin=&smax=&page=\"+\"i\").text\n",
    "        soup = BeautifulSoup(dom, 'html')\n",
    "        month = soup.find_all('div', {\"class\": \"rental_result\"})\n",
    "        for ele in month:\n",
    "            print(\n",
    "                ele.find('a', 'house_title').text,\n",
    "                ele.find('span', 'label label-primary').text\n",
    "            )  \n",
    "if __name__ == '__main__':\n",
    "    main()\n",
    "\"\"\""
   ]
  },
  {
   "cell_type": "code",
   "execution_count": 17,
   "metadata": {},
   "outputs": [
    {
     "name": "stdout",
     "output_type": "stream",
     "text": [
      "台灣a一次搜尋所有租屋網站!a關鍵字a坪數a租金a(adsbygoogle = window.adsbygoogle || []).push({});a台北市宿舍相關租屋搜尋:a台北市北醫學生宿舍出租a台北市學生宿舍a台北市北醫學生宿舍a(adsbygoogle = window.adsbygoogle || []).push({});a(adsbygoogle = window.adsbygoogle || []).push({});a共有a58a筆關於「a台北市宿舍a」的出租訊息(目前位於a1/6a頁)搜尋費時:a0.0001a秒a分享到a東區靜巷店辦近國父紀念館適咖啡輕食事務所a40.0a坪a$a100000a台北市大安區光復南路308巷a時尚物業是台北最專業的企業不動產租賃管理服務團隊 我們專營B2B租賃服務， 代理信義計畫區、南軟、內科與台北市共100棟以上商業大樓招租代理 為各家企業公司規劃從創業/來台分公司/搬家/員工宿舍/零售門市展店/公司資產代理 管理一條龍完整規劃，另提供房東套、住、辦、店長/短租代理代管服務，把企業台北租屋大小事交給我們 房東輕鬆收租，房客安心入住 For English service, please add our line or send mail to us. Line: hollowkiller Mail: *@*. 東區一樓靜巷店辦近國父紀念館適咖啡輕食事務所 東區超值小店面出租～！延吉街全聯福利中心旁，使用15坪， 租金五萬即可開市～交通方便近仁愛路四段車水馬龍，格局方正，。 適合咖啡店、電商、工作室、服飾業、美睫美甲、零售業、倉儲、事務所。 歡迎約看，出價就談 1.本廣告之租賃條件及照片內容可能會異動，請於參觀時與人員確認，並以簽約時合意條件為準。 2.最後房東之出租條件會因不同房客之承租條件有所異動，實際使用坪數及法定用途需現場丈量且依使用執照為準。 3.所記載之坪數有錯時，以地政機關登記簿謄本為準。 時尚物業免費代尋租屋流程 需求確認→代尋物件→帶看議價→簽約點交 The process of Fashion Property Management Corp.’s service Receive the request→Find the room→Introduce and negotiate→Sign the contract, Move in Fashion Property management corp.『時尚物業』is the best rental service team in Taipei. We offer foreign corporation and customers for property leasing service, including retail, office, housing and suite. We also search for the property upon your request for free. Only charge half of monthly rent as our service fee after the deal. Feel free to contact us.Bilingual Services. Warmly houses. 看屋專線 17RENT時尚物業 林經理 Henry Lin * 我們的營業時間: 每週一～六 9:00-21:00 經紀業名稱：時尚物業有限公司a591 - https://rent.591.com.tw/rent-detail-7140918.htmla陽明山行旅優質五星級套房(兼社會住宅)a8.0a坪a$a7400a台北市士林區建業路34號a歡迎下午1點至晚上7點來電詢問喔!!! 一.防盜安全 各戶規劃鋼板烤漆玄關門，門禁刷卡進出，灑水系統，防火，防盜 二.隔音安全 隔間採RC結構，隔音效果佳，讀書更專心 三.雙人獨立 雙人套房，備二張獨立單人床，互不干擾 四.通風採光 戶戶大開窗，通風採光佳，衛浴乾溼分離 五.一應俱全 各戶附冷暖變頻空調、網路、冰箱、儲熱式熱水器、書桌椅、衣櫃…等 六.五星級飯店外觀 色彩繽紛、青春無敵 七.空間規劃量身打造 ※大氣挑高/1樓挑高4.2米，2~4樓挑高3.4米 ※迎賓休閒大廳/1樓設置管理櫃台、交誼廳、全配備料理餐廚、影印機、管理收發、家電設備全功能滿足 ※日光洗衣房/頂樓配置自助投幣式洗衣機、烘衣機，另有陽光曬被區 ※各層均設置消防栓箱、火警警報系統、緊急廣播系統、偵煙器、避難指標示燈LED型（含避難方向指示燈、緊急照明燈、出口指示燈）滅火器、水帶箱、2~4樓規劃緩降機。 ※1樓圍牆及大門出入口、交誼廳、電梯車廂、每層走道、地下室停車場、屋頂出入口洗衣房、曬衣區及R2均設置攝影機，螢幕不跳動錄影保存時間至少二星期以上。1樓圍牆上方加裝電網，防止外人入侵。 八.文化大學認證賃居安全宿舍 符合台北市全新建築消防法規核發執照 住得安全，家人最放心!a591 - https://rent.591.com.tw/rent-detail-7044858.htmla「光輝社區」周遭生活機能完整鬧中取靜a3.0a坪a$a6500a台北市文山區忠順街一段9巷10號a「光輝社區」(台北市文山區)周遭生活機能完整鬧中取靜 • 聯絡人： * 林先生 • 套房(A)– 約9.0坪有南向及西向窗 11,000元/月(雙人房一人入住) 2019.02.01可入住(兩人入住加2,000元/月) • 雅房(C)– 約3.2坪有南向及東向窗 6,500元/月(個人房) 2019.01.01可入住 • 押金：二個月 • 最短租期：至2019年六月底，再續約一年 • 每月25日匯付下個月房租 • 開伙：不可以 • 養寵物：不可以 • 車位：無 • 身份要求：學生、上班族 • 性別要求：男女生皆可 • 朝向：坐東朝西 • 格局：有陽臺 • 房東提供：桌子、椅子、衣櫃、床、熱水器、冷氣、網路(共用)、洗衣機(共用)、冰箱(共用) • 生活機能：近便利商店；傳統市場(光明市場 / 木新市場)；公園綠地；學校；醫療機構；夜市。 • 附近交通： 一、景美女中站UBike。 二、捷運：七張捷運站 / 景美捷運站 / 萬芳醫院捷運站 三、公車經： 1. 實踐國小站：251/區、611； 2. 實踐國中站：251/區、295、綠2左/右、榮總(快)； 3. 木柵路光輝路口站：294、253、647、660、666、671、915、933、棕6、棕12、棕22； 4. 興隆路興隆路口站：237、251/區、253、671、綠2左/右； 5. 木新路木新市場站：252、253、611、671、793、796、819、小11、棕7、綠1、綠2左/右、榮總(快)。 6. 木新區民活動中心(木新市場)站：611、棕2； 7. 木新路景美女中站：252、253、295、671、793、796、819、小11、棕2、棕7、綠1、綠2左/右、榮總(快)。 •屋況說明：5F建公寓之4F 本社區舊稱「台電溝子口宿舍區」，鄰近景美溪河濱步道，機關學校有考試院、政治大學、世新大學、景美女中、實踐國中、實踐國小、力行國小、永建國小、明道國小，住家以台電員工或退休員工居多，鄰里單純、環境清幽，社區公安、生活機能讚。 •購物：便利商店、家樂福大賣場、木新市場、頂好超市、全聯超市-3家、光明市場、愛買超市，瀚星百貨，景美夜市，公館商圈。 •住 ：空氣流通採光好。 •育樂：景美溪河濱步道(可達動物園、景美、自來水園區及淡水) 、政大→樟山寺步道、樟湖步道、樟樹步道、貓空、木柵游泳池(北市政府)、仙跡岩登山步道、文山區運動中心、景美來來佳佳戲院、公館東南亞、百老匯戲院。 •資料庫：(1)興隆路市圖文山分館、(2)景行街市圖景行分館、(3)景美女中對面市圖力行分館. •水、電、網路依各該公司收費單費用平均分攤。a591 - https://rent.591.com.tw/rent-detail-5160639.htmla張媽媽學舍＊套房出租a8a坪a$a6800a高雄市新興區林森一路242號4樓a張媽媽學生宿舍這次推出全新的飯店式管理套房，在建材, 防火, 隔音, 採光, 空調設備..等, 在幾乎每一項規格上都完全超越以往的超高標準, 一直在用心經營, 一直在用心進步, 相信是大家對張媽媽的印象, 在每一次的機會張媽媽堅持一定要做的比上一次好, 一向都以 安全, 高規格, 節能, 的張媽媽宿舍, 這次把飯店的規格大膽的套用上， 就是為了要給各位同學最好的居住環境，好讓大家放心的去追逐自己的學業及事業！！！ ★全新衛浴大理石點綴 ★頂級房火門 - 重達30kg配有易開關油壓式關節 ★房門有電子中控鎖, 不再單一門禁, 安全加倍！！ ★隱藏式獨立空調系統, 不再窗型, 不再分離式, 要用就用最好的！ ★電子讀卡電能設備, 省時, 省能源！ 除了設備上的更新， 還有許多硬體上的改良，同樣為節能及提昇品質為最終目標，細節請洽張媽媽。 聯絡電話：0972733983許小姐（張媽媽小幫手）上午10：00至晚上18：00 週一至週六 值得跑一趟，有任何問題張媽媽皆可為你解答！！ 一貫高品質出租內容： A - 同樣頂級豪華配備，更換全新 32吋液晶電視 。 B - 秉持張媽媽學舍一貫作法，全新衛浴，全新冰箱、頂級空調系統，全新傢具，只需帶行李。 C - 免費高速寬頻和頻寬管理，保證不塞車24小時網路公司專線服務，永遠暢通。 D - 感應卡門禁，整棟全程監控24小時錄影，安全有保障。 E - 24H 垃圾處理，無需等垃圾車。 H -房間皆有明亮大窗，明亮舒適。 K - 24H 投幣式洗衣乾衣機！！ &n 房屋問答 許小姐 進入店鋪 過濾該會員所有物件 給房東留言 查看房東詳細介紹 在線找房好處 更有保障 物件資訊如有不實，隨時舉報 客服人員時時查驗屋訊 更方便 地圖定位，街景服務，宛如實地看屋 可分享給好友，一起找房 可記錄搜尋條件，系統隨時寄送房屋清單 內政部公告「房屋租賃定型化契約應記載及不得記載事項」，自106年1月1日生效施行 內政部-房屋租賃定型化契約範本下載（中文版/英文版） /*腳部 */ /* @Footer Layout */ #Foot a:link, a:visited { text-decoration: none; } #Foot { margin: 0 auto; overflow: auto; font-size: 13px; width: 950px; } #Foot #FootText, #FootBanner { clear: both; overflow: auto; } #Foot #FootBanner div { float: left; margin: 10px 12px; } #Foot #FootText { height: 233px; } #Foot #FootText div { height: 20px; line-height: 20px; } #Foot #FootBanner { height: 60px; } #Foot #FootText div { margin-top: 3px; } /* @Footer Layout End */ 廣告刊登 ｜檢視系統 各項專利編號：發明第182056號、發明第184291號、發明第206961號、發明第I382357號 直營網站：台灣搜房網｜台灣租屋網｜家天下不動產網｜家天下搬家網｜17Sogo購物網｜房市家社區論壇｜工作趣 聯播網站：Yahoo奇摩 房地產(租屋、售屋)｜Yahoo奇摩 找新屋(預售新成屋) 社群網站：台租粉絲 ｜搜房粉絲 國際地產： 中國搜房 ｜日本 ｜美國 ｜英國 ｜泰國 ｜澳洲 推薦部落客： 家天下 視頻網站：搜房YouTube｜家天下YouTube 服務時間：週一~週五 AM 9:00~PM 6:00 公司地址：104 台北市復興北路48號12樓-1 統一編號：80504545 公司名稱：台灣搜房股份有限公司 公司代表號：(02)2772-9468 傳真電話：(02)2740-2396 客服專線：(02)2752-4868 法律顧問：政衡法律事務所 0972066160 本網站已依台灣網站內容分級規定處理 家天下( 網際網路 , 不動產 )、台灣租屋網( 網際網路 ) Design By 家天下視覺設計 請您檢查瀏覽器cookie是否開啟 建議瀏覽解析度為 1024*768 pixel $(function () { var haveimage true; if (haveimage) { $(\"#imggallery\").number_slideshow({ slideshow_autoplay: 'enable',//enable disable slideshow_time_interval: '3000', slideshow_window_background_color: \"#ccc\", slideshow_window_padding: '1', slideshow_window_width: '335', slideshow_window_height: '225', slideshow_border_size: '0', slideshow_border_color: 'black', slideshow_show_button: 'enable',//enable disable slideshow_show_title: 'disable',//enable disable slideshow_button_text_color: '#CCC', slideshow_button_background_color: '#333', slideshow_button_current_background_color: '#666', slideshow_button_border_color: '#000', slideshow_loading_gif: '/Content/House/Images/loading.gif',//loading pic position, you can replace it. slideshow_button_border_size: '1' }); } $.getJSON(\"/api/hotview.ashx?objid \" + \"13875575\", function (result) { if (result.status) { $(\"#hotviewcount\").text(result.yesterday); $(\"#hotviewtotal\").text(result.total); if (result.yesterday 0) { $(\".info_icon20,#hotviewcount\").hide(); } $(\"#hotviewwrapper\").show(); } }); $(\"#NaviBarSearch\").parent(\"li\").addClass(\"current\"); $.scrolltotop({ className: 'totop' }); var qaobj $(\"#qa_content\").Qa({ objid: '13875575', loginurl: 'http://www.twhouses.com.tw/netc/Anonymous/UserLogin.aspx?formpathstring http://detail.twhouses.com.tw/13875575', responseurl: 'http://www.twhouses.com.tw/netc/chQandA/qandadmin.aspx?type 1' }); //alert($.fn.Qa.opt.responseurl); $(\".info_icon4\").click(function () { window.open('http://www.twhouses.com.tw/wwwpub/pubtools/add-mynotes.asp?commerical_id 1&object_id 13875575&account ', '', 'sca台灣租屋網 - http://detail.twhouses.com.tw/House/Rent/13875575a住辦店面五大房四衛三廳一倉庫a73a坪a$a28000a新竹縣湖口鄉鐵騎路175號ahttps://rent.591.com.tw/rent-detail-6704872.html湖口鐵騎路(同勝利路),全新整理,交通便利,整棟出租.五大房+四衛+三廳+一大儲藏室,適合公司行號進駐,樓下店面,樓上辦公+員工宿舍權狀57坪,增建16坪,總坪數73坪.房子位於湖口工業區,117縣道上,馬路面寬20米以上,上下貨出入方便,門口可以停放2台車,附近停車便利.距離最近便利商店及生鮮超市400公尺,步行5分鐘即可到達.距離國道一號湖口交流道1.6公里,4分鐘即可以上國道.距離台北市59公里,40分鐘即進入台北市.往南行經高速公路10分鐘內進入新竹科學園區.鐵騎路銜接勝利路一段,生活機能充足.附近有公園綠地,有籃球場.房子重新整理粉刷,電動鐵捲門+活動鋁門,門面大器.一樓客廳可當店面做生意或做辦公室據點.一樓後面有一大飯廳,廚房,一套衛浴.二樓一大廳一大雅房一套衛浴.三樓一大和室套房(含一套衛浴),一大客房,一和室,一套獨立衛浴.四樓一房,一超大儲藏室.另有半層小倉庫.衛浴皆有天然瓦斯熱水器.a大管家 - http://www.chrb.com.tw/0079451.htmla半伴（後山埤）ShareHousea10.0a坪a$a10000a台北市信義區忠孝東路五段790巷a(請務必詳讀以下說明） 你有夢想嗎？ 對於人生對於未來有著無限的想像和熱情嗎？ !!!!!!一年免費居住!!!!!! 半伴繁星計畫台北市 ing!!!!!! 107年度提供4名免費居住名額 讓「半伴」一起來協助你 讓我們用「繁星計劃」為你點亮人生的一盞燈 107年度的繁星計畫已截止~也歡迎詢問明年一起參與 由室內設計師所組成的「半伴」團隊。 不是青年旅館、不是民宿...而是月租型的共居宿舍。 共居房型以床計費，寬敞的公共空間 無須高額押金及長約束縛的壓力 一個月即可起租!!! 請透過我們粉絲訊息進行洽詢 新型態的月租「共居」 「共居公寓」在歐美及日本 早已經成為一種很理所當然的新生活型態。 現在日本年輕人喜歡選擇共居， 大家相互幫助之外也能共享空間與設施， 便能分攤生活開銷減少浪費。 台北「半伴」 也推出了相同的共居慨念， 提供一個台灣年輕人溫暖的第二個“家” 也可以讓家人不用擔心獨居在外的你。 半伴後山埤, 距離捷運後山埤站走路不到五分鐘 緊鄰玉成公園 （公園內有室內外游泳池,各式球場） 依房型不同租金不同,每月租金，並且已經包含了水電瓦斯及網路相關費用 可以使用客廳 / 廚房 / 飯廳 等...公共空間以及家電設施、洗衣機、乾衣機（30元/次, 列入房客活動公積金） 另收押金5000元 男女浴廁分開，女生浴廁加裝密碼感應鎖, 兼具安全與隱私 ■第三個家。後山埤。a591 - https://rent.591.com.tw/rent-detail-7010845.htmla[限女/台北/古亭]a2a坪a$a5000a台北市中正區金門街xx號3樓a※ 幫友人代PO，預約看房請直接電話聯繫李小姐(手機0963-363-727) /邱小姐(手機0988 -090-226)，謝謝。 ★ 12月中即可入住★ 台北市中正區金門街家庭式女生宿舍分租雅房找室友囉 聯 絡 人：李小姐(手機0963-363-727) /邱小姐(手機0988-090-226) 聯絡方式：電話 (麻煩盡量晚上時段) 房屋地點：台北市中正區金門街xx號3樓 （總樓層4樓，無電梯） 鄰近交通： 步行10分鐘內至捷運古亭站或台電大樓站、多路公車站(羅斯福 路金門街口)，5分鐘內至U-bike河堤國小站，交通非常便利。 公寓樓下有美廉社、洗衣店，鄰近超商、早餐店、小吃店、咖啡店、圖書館，生活機能超 佳。 所在樓層：3樓 (總樓層4樓，無電梯) 租金(月)：5000元/月 [補充說明：無獨立電表，水電費、瓦斯費、管理費等公共費用(皆依照台電/大台北瓦斯 帳單) 另外與三位室友們平均分攤，非夏季時每人約500元/月] 押 金：一個月租金 公共設施：前後陽台、客廳、廚房(可開伙)、冰箱、飲水機、浴室（四人共用一浴室，後 陽台另有一廁所可使用）、洗衣機 格局坪數：約2.8坪 隔間材質：水泥 (雅房有大對外窗採光佳，通風良好，環境幽靜) 能否接受寵物：很可惜不能... 參考圖片： https://drive.google.com/drive/mobile/folders/0B8jBKtqyIqhFQy15SjJnSnR0cmc [補充說明：照片內傢俱為原室友的。 雅房內提供的設備有桌椅，大木衣櫃，單人床架(不含床墊)] 三位室友廣播：我們是工作穩定、生活作息正常的小資女孩，歡迎願意長期居住、生活習 慣良好、有緣的妳加入我們喲~aPTT雅房版 - https://www.ptt.cc/bbs/Rent_ya/M.1544425356.A.AC9.htmla[限女]中和環球-頂加不悶熱寬敞舒適a4.0a坪a$a5800a新北市中和區員山路467號a本套房限71年次以內之單身女性(18~36歲)，本套房為女性單身宿舍，限本人1人入住，禁止攜伴。謝謝! 本套房為頂樓加蓋，但因為旁邊就是員山森林公園，棟距又大， 且留了很大的空地所以很通風，歡迎親自看屋感受。 ◆生活機能佳： 位於員山路與台新街交叉口附近，307公車站牌旁(員山站)， 走路到環球購物中心只要5分鐘，喝下午茶逛街好愜意! 坐307公車到板橋捷運站約15分鐘，到台北市好快速。 近遠東世紀廣場工業區，坐公車4站即達。 旁邊有頂好超市、全聯、麥當勞，對面就是OK便利商店， 離民安街夜市走路3分鐘，吃宵夜、借DVD漫畫小說好方便! 旁邊就是警察局，夜間回家安全無虞。 ◆特色描述: 本套房位於3樓，是頂樓加蓋，總共3間，僅有一間出租(位於中間)。 一般頂樓加蓋最怕夏天悶熱， 但本套房旁邊就是員山森林公園，棟距又大， 且留了非常大的空地所以很通風，歡迎親自看屋。 並採8坪用的大噸數冷氣，可快速降溫， 建議一開始先將溫度降至26度，再往上調至27度搭配電風扇跟涼蓆，這樣又涼又省電， 實測結果：27度，晚上9:30開至隔天早上7:00是2.5度*5元 13元，等於一個月冷氣電費約400元，很省電。 本套房堅持出入人口單純，也請入住的您遵守規定。 衛浴、家電都相當新，有對外窗。 還有一個公用大陽台可以種花、曬衣。 隔間採用雙層水泥板+隔音泡棉(非水泥磚牆隔間)，所以隔音不會跟水泥磚牆一樣好唷! ◆房間設備: 附東元小鮮綠冰箱、25吋液晶電視(收看MOD基本台數，非第四台)、冷氣，免費寬頻網路及WIFI， 附公用洗衣機免投幣， 恆溫電熱水器讓洗澡不會忽冷忽熱， 且水量充沛，不會有水太小的問題。 獨立電表(1度5元)。 這間外面行情至少7000元的獨立套房， 現在只要5800元就可以住到了! 房東降低租金只求找到有緣好房客，以下三點要求請您遵守： 1、希望租給品行良好、正職工作穩定、單純好相處的女生朋友。 2、租期至少1年。 3、為維護全部女性房客權益，限本人1人入住，禁止攜伴。 這裡交通便利安全、生活機能好，歡迎電話預約看屋! 請電 *李小姐，請於AM8:00~PM8:00來電，謝謝!a591 - https://rent.591.com.tw/rent-detail-7121306.htmla優質溫泉湯池景觀宅a31.0a坪a$a24000a新北市八里區訊埔路a權狀45坪 廳大 房大 浴室大 公設完善 公設比相對低 位於商港路、中華路口 直接上下64號八里新店快速道路 20分鐘直達台北市中心、桃園機場 稀有溫泉養生好宅 泉質為又稱黃金美人湯的鐵碳酸氫鹽泉 細潤滑順 一戶一湯屋 除家中湯屋外還可使用社區星空溫泉湯屋 一戶一畝田 樓上配有一畝田 可種菜養花蒔草 增加生活樂趣 頂樓視野、採光、通風均佳 俯瞰台北港 遠眺淡水河口 適合養生、度假、休閒、新婚或公司宿舍、行館 歡迎有緣人 免仲介服務費a591 - https://rent.591.com.tw/rent-detail-7076827.htmla蘇州庭院5F超幽靜適合全家福空間超大a30.0a坪a$a13000a基隆市七堵區東新街89巷21號a請注意: 要求帶看前 請一定要看完以下屋況說明 LINE ID：soft5153 對不起: 為維持居住品質 所有房客的身分皆會過濾 以確保安全 本屋全面禁寵物 所以無法出租給養貓狗蛇的朋友 拒絕出租給違法 違背善良風俗、酗酒、賭博、吸毒的公司及個人 或與他人有 債務 感情 糾紛 皆拒絕出租 僅限住四人 若超過 會增加租金 17000可以接受短租 但會增加租金 17000 (免管理費) 我的房子距基隆商工約150公尺 位於山腰上 高約30公尺 不適合老人 因須爬坡 有點偏遠 但治安很好 本房屋只出租給善良人士，並請各位房客務必遵守規定，若無法遵守，請勿向本人租屋。 5日前承租 優惠只要11000 簽三年可享第一個月免租金 請注意: 可立刻入住 若要帶看 請先說明 1.您要承租的起日 2.您要承租的承租期間 3.您的公司行號名稱 4.您公司的地點 之前有當駐台北辦事處的辦公室兼出差住宿用 因本物件可以登記公司使用 全新整理 可使用空間為60坪 獨享30坪頂樓大陽台 頂樓當空中花園 可以種花種菜 想要靠近台北市 汐止南港內湖松山 有一間超低價的住家嗎? 請選我 基隆市七堵區東新街89巷21之4號五樓 準沒錯 地點超好! 五樓會有點高 但空氣和視野很好 (六樓陽台可開Party) 蘇州庭院 七堵區東新街89巷21之4號五樓 附加頂樓加蓋 空間超大近七堵車站，道路旁好停車又安全寧靜 隱密性佳 ：家俱家電齊全，裝潢好，設備俱全， 人來就好，一卡皮箱即可入住。 每個房間皆有對外窗，景觀超好 空氣對流佳，沒有漏水 每間房都有冷氣 本屋保證無任何非自然事故發生 限善良人士承租 適合 中小家庭 員工宿舍 ;學生宿舍 周邊：青山綠地，適合散步放鬆身心。近基隆商工旁 附近有OK便利商店。 6分鐘到公車站 12分鐘到火車站 (步行) 我們的客戶 1. 鐵路局及中華電信及包商 短期施工(因空間大) 陽明海運 鐵路局 中華電信 味丹公司 合邦國際 六堵工業區 員工 2. 學生 團體租屋當宿舍 (因為分攤後很便宜) 3. 基隆商工 明德國中 長興國小老師 4. 一般家庭 (5人 可利用空間大) 5. 汐科內科台北市上班族 私人公司 6.台鐵員工 合租 7.企業老闆 商務人士 8.LongStay 家庭團體 14.中南部公司 設置台北區短期辦公室兼住宿使用 15.租不起台北的辦公室 公寓 可租我的房子當辦公室兼住宿 十分抱歉 房客租屋注意事項： （1）要簽約請帶身分證影本乙份 （2）請務必要準備足2個月押金，謝謝您配合。 (3) 本人是屋主非仲介 不會收取仲介費 (4) 台鐵員工基隆商工 明德國中 長興國小老師承租可享500優惠 (5) 限於法規 無法接受日租 ; 租期以月為單位 看屋請先LINE預約 因我在上班 無法隨時帶看房屋 抱歉,謝謝 LINE ID: soft5153 若要約看房屋 務必守信 不要爽約 帶看不收任何費用 看屋時間 限 星期六日 或下班時間 或電話 * 高先生 日 或 * 夜 或 email 給本人高先生 *@*. 退租前一個月 要可以讓房東帶看新的房客 缺點:基隆下雨時 會潮濕 ; 優點:有頂樓加蓋可以利用 Good house for rent Maison à louer Zimmer zu vermieten 良い部屋は賃貸しします 좋은 집 임대 If you have house in your country. (Japan , Korea, Germany , France) We can exchange the house for one month. Property Information: Room Size: 30 ping ; (100sqm) 4 Room 30 min drive to Taipei downtown. 10 min drive to Keelung downtown. Traditional Taiwan old house AC, washer, fridge, double bed, bath set. Good credit history . 24 hours convenient store is nearby as well as restaurants. Rate: 5~30 nights: US$70/night 30+ nights: US$50/night Minimum booking is 5 nights. Please use Line first. My LineID: soft5153 Mr. Gau ; Tel * 部屋の情報： 部屋の大きさ：30 pingを実行。 （130sqm） 30分には、台北の繁華街へは車。 10分は基隆の繁華街へは車。 伝統的な台湾の古い家 AC、洗濯機、冷蔵庫、ダブルベッド、お風呂セット。 禁煙なし、ペット、良好な信用履歴。 24時間コンビニはレストランだけでなく、近くにあります。 レート： 5〜30泊：US $70 /一泊 30+夜：US $50/一泊 最小の予約は5泊です。 最初の行を使用してください。 私のLINE ID：soft5153 Mr. Gau ; Tel * * English 日本語 OK !!a591 - https://rent.591.com.tw/rent-detail-7105526.htmla將此租屋搜尋結果分享至Facebook 台灣span一次搜尋所有租屋網站!span關鍵字span坪數span租金span(adsbygoogle = window.adsbygoogle || []).push({});span台北市宿舍相關租屋搜尋:span台北市北醫學生宿舍出租span台北市學生宿舍span台北市北醫學生宿舍span(adsbygoogle = window.adsbygoogle || []).push({});span(adsbygoogle = window.adsbygoogle || []).push({});span共有span58span筆關於「span台北市宿舍span」的出租訊息(目前位於span1/6span頁)搜尋費時:span0.0001span秒span分享到span東區靜巷店辦近國父紀念館適咖啡輕食事務所span40.0span坪span$span100000span台北市大安區光復南路308巷span時尚物業是台北最專業的企業不動產租賃管理服務團隊 我們專營B2B租賃服務， 代理信義計畫區、南軟、內科與台北市共100棟以上商業大樓招租代理 為各家企業公司規劃從創業/來台分公司/搬家/員工宿舍/零售門市展店/公司資產代理 管理一條龍完整規劃，另提供房東套、住、辦、店長/短租代理代管服務，把企業台北租屋大小事交給我們 房東輕鬆收租，房客安心入住 For English service, please add our line or send mail to us. Line: hollowkiller Mail: *@*. 東區一樓靜巷店辦近國父紀念館適咖啡輕食事務所 東區超值小店面出租～！延吉街全聯福利中心旁，使用15坪， 租金五萬即可開市～交通方便近仁愛路四段車水馬龍，格局方正，。 適合咖啡店、電商、工作室、服飾業、美睫美甲、零售業、倉儲、事務所。 歡迎約看，出價就談 1.本廣告之租賃條件及照片內容可能會異動，請於參觀時與人員確認，並以簽約時合意條件為準。 2.最後房東之出租條件會因不同房客之承租條件有所異動，實際使用坪數及法定用途需現場丈量且依使用執照為準。 3.所記載之坪數有錯時，以地政機關登記簿謄本為準。 時尚物業免費代尋租屋流程 需求確認→代尋物件→帶看議價→簽約點交 The process of Fashion Property Management Corp.’s service Receive the request→Find the room→Introduce and negotiate→Sign the contract, Move in Fashion Property management corp.『時尚物業』is the best rental service team in Taipei. We offer foreign corporation and customers for property leasing service, including retail, office, housing and suite. We also search for the property upon your request for free. Only charge half of monthly rent as our service fee after the deal. Feel free to contact us.Bilingual Services. Warmly houses. 看屋專線 17RENT時尚物業 林經理 Henry Lin * 我們的營業時間: 每週一～六 9:00-21:00 經紀業名稱：時尚物業有限公司span591 - https://rent.591.com.tw/rent-detail-7140918.htmlspan陽明山行旅優質五星級套房(兼社會住宅)span8.0span坪span$span7400span台北市士林區建業路34號span歡迎下午1點至晚上7點來電詢問喔!!! 一.防盜安全 各戶規劃鋼板烤漆玄關門，門禁刷卡進出，灑水系統，防火，防盜 二.隔音安全 隔間採RC結構，隔音效果佳，讀書更專心 三.雙人獨立 雙人套房，備二張獨立單人床，互不干擾 四.通風採光 戶戶大開窗，通風採光佳，衛浴乾溼分離 五.一應俱全 各戶附冷暖變頻空調、網路、冰箱、儲熱式熱水器、書桌椅、衣櫃…等 六.五星級飯店外觀 色彩繽紛、青春無敵 七.空間規劃量身打造 ※大氣挑高/1樓挑高4.2米，2~4樓挑高3.4米 ※迎賓休閒大廳/1樓設置管理櫃台、交誼廳、全配備料理餐廚、影印機、管理收發、家電設備全功能滿足 ※日光洗衣房/頂樓配置自助投幣式洗衣機、烘衣機，另有陽光曬被區 ※各層均設置消防栓箱、火警警報系統、緊急廣播系統、偵煙器、避難指標示燈LED型（含避難方向指示燈、緊急照明燈、出口指示燈）滅火器、水帶箱、2~4樓規劃緩降機。 ※1樓圍牆及大門出入口、交誼廳、電梯車廂、每層走道、地下室停車場、屋頂出入口洗衣房、曬衣區及R2均設置攝影機，螢幕不跳動錄影保存時間至少二星期以上。1樓圍牆上方加裝電網，防止外人入侵。 八.文化大學認證賃居安全宿舍 符合台北市全新建築消防法規核發執照 住得安全，家人最放心!span591 - https://rent.591.com.tw/rent-detail-7044858.htmlspan「光輝社區」周遭生活機能完整鬧中取靜span3.0span坪span$span6500span台北市文山區忠順街一段9巷10號span「光輝社區」(台北市文山區)周遭生活機能完整鬧中取靜 • 聯絡人： * 林先生 • 套房(A)– 約9.0坪有南向及西向窗 11,000元/月(雙人房一人入住) 2019.02.01可入住(兩人入住加2,000元/月) • 雅房(C)– 約3.2坪有南向及東向窗 6,500元/月(個人房) 2019.01.01可入住 • 押金：二個月 • 最短租期：至2019年六月底，再續約一年 • 每月25日匯付下個月房租 • 開伙：不可以 • 養寵物：不可以 • 車位：無 • 身份要求：學生、上班族 • 性別要求：男女生皆可 • 朝向：坐東朝西 • 格局：有陽臺 • 房東提供：桌子、椅子、衣櫃、床、熱水器、冷氣、網路(共用)、洗衣機(共用)、冰箱(共用) • 生活機能：近便利商店；傳統市場(光明市場 / 木新市場)；公園綠地；學校；醫療機構；夜市。 • 附近交通： 一、景美女中站UBike。 二、捷運：七張捷運站 / 景美捷運站 / 萬芳醫院捷運站 三、公車經： 1. 實踐國小站：251/區、611； 2. 實踐國中站：251/區、295、綠2左/右、榮總(快)； 3. 木柵路光輝路口站：294、253、647、660、666、671、915、933、棕6、棕12、棕22； 4. 興隆路興隆路口站：237、251/區、253、671、綠2左/右； 5. 木新路木新市場站：252、253、611、671、793、796、819、小11、棕7、綠1、綠2左/右、榮總(快)。 6. 木新區民活動中心(木新市場)站：611、棕2； 7. 木新路景美女中站：252、253、295、671、793、796、819、小11、棕2、棕7、綠1、綠2左/右、榮總(快)。 •屋況說明：5F建公寓之4F 本社區舊稱「台電溝子口宿舍區」，鄰近景美溪河濱步道，機關學校有考試院、政治大學、世新大學、景美女中、實踐國中、實踐國小、力行國小、永建國小、明道國小，住家以台電員工或退休員工居多，鄰里單純、環境清幽，社區公安、生活機能讚。 •購物：便利商店、家樂福大賣場、木新市場、頂好超市、全聯超市-3家、光明市場、愛買超市，瀚星百貨，景美夜市，公館商圈。 •住 ：空氣流通採光好。 •育樂：景美溪河濱步道(可達動物園、景美、自來水園區及淡水) 、政大→樟山寺步道、樟湖步道、樟樹步道、貓空、木柵游泳池(北市政府)、仙跡岩登山步道、文山區運動中心、景美來來佳佳戲院、公館東南亞、百老匯戲院。 •資料庫：(1)興隆路市圖文山分館、(2)景行街市圖景行分館、(3)景美女中對面市圖力行分館. •水、電、網路依各該公司收費單費用平均分攤。span591 - https://rent.591.com.tw/rent-detail-5160639.htmlspan張媽媽學舍＊套房出租span8span坪span$span6800span高雄市新興區林森一路242號4樓span張媽媽學生宿舍這次推出全新的飯店式管理套房，在建材, 防火, 隔音, 採光, 空調設備..等, 在幾乎每一項規格上都完全超越以往的超高標準, 一直在用心經營, 一直在用心進步, 相信是大家對張媽媽的印象, 在每一次的機會張媽媽堅持一定要做的比上一次好, 一向都以 安全, 高規格, 節能, 的張媽媽宿舍, 這次把飯店的規格大膽的套用上， 就是為了要給各位同學最好的居住環境，好讓大家放心的去追逐自己的學業及事業！！！ ★全新衛浴大理石點綴 ★頂級房火門 - 重達30kg配有易開關油壓式關節 ★房門有電子中控鎖, 不再單一門禁, 安全加倍！！ ★隱藏式獨立空調系統, 不再窗型, 不再分離式, 要用就用最好的！ ★電子讀卡電能設備, 省時, 省能源！ 除了設備上的更新， 還有許多硬體上的改良，同樣為節能及提昇品質為最終目標，細節請洽張媽媽。 聯絡電話：0972733983許小姐（張媽媽小幫手）上午10：00至晚上18：00 週一至週六 值得跑一趟，有任何問題張媽媽皆可為你解答！！ 一貫高品質出租內容： A - 同樣頂級豪華配備，更換全新 32吋液晶電視 。 B - 秉持張媽媽學舍一貫作法，全新衛浴，全新冰箱、頂級空調系統，全新傢具，只需帶行李。 C - 免費高速寬頻和頻寬管理，保證不塞車24小時網路公司專線服務，永遠暢通。 D - 感應卡門禁，整棟全程監控24小時錄影，安全有保障。 E - 24H 垃圾處理，無需等垃圾車。 H -房間皆有明亮大窗，明亮舒適。 K - 24H 投幣式洗衣乾衣機！！ &n 房屋問答 許小姐 進入店鋪 過濾該會員所有物件 給房東留言 查看房東詳細介紹 在線找房好處 更有保障 物件資訊如有不實，隨時舉報 客服人員時時查驗屋訊 更方便 地圖定位，街景服務，宛如實地看屋 可分享給好友，一起找房 可記錄搜尋條件，系統隨時寄送房屋清單 內政部公告「房屋租賃定型化契約應記載及不得記載事項」，自106年1月1日生效施行 內政部-房屋租賃定型化契約範本下載（中文版/英文版） /*腳部 */ /* @Footer Layout */ #Foot a:link, a:visited { text-decoration: none; } #Foot { margin: 0 auto; overflow: auto; font-size: 13px; width: 950px; } #Foot #FootText, #FootBanner { clear: both; overflow: auto; } #Foot #FootBanner div { float: left; margin: 10px 12px; } #Foot #FootText { height: 233px; } #Foot #FootText div { height: 20px; line-height: 20px; } #Foot #FootBanner { height: 60px; } #Foot #FootText div { margin-top: 3px; } /* @Footer Layout End */ 廣告刊登 ｜檢視系統 各項專利編號：發明第182056號、發明第184291號、發明第206961號、發明第I382357號 直營網站：台灣搜房網｜台灣租屋網｜家天下不動產網｜家天下搬家網｜17Sogo購物網｜房市家社區論壇｜工作趣 聯播網站：Yahoo奇摩 房地產(租屋、售屋)｜Yahoo奇摩 找新屋(預售新成屋) 社群網站：台租粉絲 ｜搜房粉絲 國際地產： 中國搜房 ｜日本 ｜美國 ｜英國 ｜泰國 ｜澳洲 推薦部落客： 家天下 視頻網站：搜房YouTube｜家天下YouTube 服務時間：週一~週五 AM 9:00~PM 6:00 公司地址：104 台北市復興北路48號12樓-1 統一編號：80504545 公司名稱：台灣搜房股份有限公司 公司代表號：(02)2772-9468 傳真電話：(02)2740-2396 客服專線：(02)2752-4868 法律顧問：政衡法律事務所 0972066160 本網站已依台灣網站內容分級規定處理 家天下( 網際網路 , 不動產 )、台灣租屋網( 網際網路 ) Design By 家天下視覺設計 請您檢查瀏覽器cookie是否開啟 建議瀏覽解析度為 1024*768 pixel $(function () { var haveimage true; if (haveimage) { $(\"#imggallery\").number_slideshow({ slideshow_autoplay: 'enable',//enable disable slideshow_time_interval: '3000', slideshow_window_background_color: \"#ccc\", slideshow_window_padding: '1', slideshow_window_width: '335', slideshow_window_height: '225', slideshow_border_size: '0', slideshow_border_color: 'black', slideshow_show_button: 'enable',//enable disable slideshow_show_title: 'disable',//enable disable slideshow_button_text_color: '#CCC', slideshow_button_background_color: '#333', slideshow_button_current_background_color: '#666', slideshow_button_border_color: '#000', slideshow_loading_gif: '/Content/House/Images/loading.gif',//loading pic position, you can replace it. slideshow_button_border_size: '1' }); } $.getJSON(\"/api/hotview.ashx?objid \" + \"13875575\", function (result) { if (result.status) { $(\"#hotviewcount\").text(result.yesterday); $(\"#hotviewtotal\").text(result.total); if (result.yesterday 0) { $(\".info_icon20,#hotviewcount\").hide(); } $(\"#hotviewwrapper\").show(); } }); $(\"#NaviBarSearch\").parent(\"li\").addClass(\"current\"); $.scrolltotop({ className: 'totop' }); var qaobj $(\"#qa_content\").Qa({ objid: '13875575', loginurl: 'http://www.twhouses.com.tw/netc/Anonymous/UserLogin.aspx?formpathstring http://detail.twhouses.com.tw/13875575', responseurl: 'http://www.twhouses.com.tw/netc/chQandA/qandadmin.aspx?type 1' }); //alert($.fn.Qa.opt.responseurl); $(\".info_icon4\").click(function () { window.open('http://www.twhouses.com.tw/wwwpub/pubtools/add-mynotes.asp?commerical_id 1&object_id 13875575&account ', '', 'scspan台灣租屋網 - http://detail.twhouses.com.tw/House/Rent/13875575span住辦店面五大房四衛三廳一倉庫span73span坪span$span28000span新竹縣湖口鄉鐵騎路175號spanhttps://rent.591.com.tw/rent-detail-6704872.html湖口鐵騎路(同勝利路),全新整理,交通便利,整棟出租.五大房+四衛+三廳+一大儲藏室,適合公司行號進駐,樓下店面,樓上辦公+員工宿舍權狀57坪,增建16坪,總坪數73坪.房子位於湖口工業區,117縣道上,馬路面寬20米以上,上下貨出入方便,門口可以停放2台車,附近停車便利.距離最近便利商店及生鮮超市400公尺,步行5分鐘即可到達.距離國道一號湖口交流道1.6公里,4分鐘即可以上國道.距離台北市59公里,40分鐘即進入台北市.往南行經高速公路10分鐘內進入新竹科學園區.鐵騎路銜接勝利路一段,生活機能充足.附近有公園綠地,有籃球場.房子重新整理粉刷,電動鐵捲門+活動鋁門,門面大器.一樓客廳可當店面做生意或做辦公室據點.一樓後面有一大飯廳,廚房,一套衛浴.二樓一大廳一大雅房一套衛浴.三樓一大和室套房(含一套衛浴),一大客房,一和室,一套獨立衛浴.四樓一房,一超大儲藏室.另有半層小倉庫.衛浴皆有天然瓦斯熱水器.span大管家 - http://www.chrb.com.tw/0079451.htmlspan半伴（後山埤）ShareHousespan10.0span坪span$span10000span台北市信義區忠孝東路五段790巷span(請務必詳讀以下說明） 你有夢想嗎？ 對於人生對於未來有著無限的想像和熱情嗎？ !!!!!!一年免費居住!!!!!! 半伴繁星計畫台北市 ing!!!!!! 107年度提供4名免費居住名額 讓「半伴」一起來協助你 讓我們用「繁星計劃」為你點亮人生的一盞燈 107年度的繁星計畫已截止~也歡迎詢問明年一起參與 由室內設計師所組成的「半伴」團隊。 不是青年旅館、不是民宿...而是月租型的共居宿舍。 共居房型以床計費，寬敞的公共空間 無須高額押金及長約束縛的壓力 一個月即可起租!!! 請透過我們粉絲訊息進行洽詢 新型態的月租「共居」 「共居公寓」在歐美及日本 早已經成為一種很理所當然的新生活型態。 現在日本年輕人喜歡選擇共居， 大家相互幫助之外也能共享空間與設施， 便能分攤生活開銷減少浪費。 台北「半伴」 也推出了相同的共居慨念， 提供一個台灣年輕人溫暖的第二個“家” 也可以讓家人不用擔心獨居在外的你。 半伴後山埤, 距離捷運後山埤站走路不到五分鐘 緊鄰玉成公園 （公園內有室內外游泳池,各式球場） 依房型不同租金不同,每月租金，並且已經包含了水電瓦斯及網路相關費用 可以使用客廳 / 廚房 / 飯廳 等...公共空間以及家電設施、洗衣機、乾衣機（30元/次, 列入房客活動公積金） 另收押金5000元 男女浴廁分開，女生浴廁加裝密碼感應鎖, 兼具安全與隱私 ■第三個家。後山埤。span591 - https://rent.591.com.tw/rent-detail-7010845.htmlspan[限女/台北/古亭]span2span坪span$span5000span台北市中正區金門街xx號3樓span※ 幫友人代PO，預約看房請直接電話聯繫李小姐(手機0963-363-727) /邱小姐(手機0988 -090-226)，謝謝。 ★ 12月中即可入住★ 台北市中正區金門街家庭式女生宿舍分租雅房找室友囉 聯 絡 人：李小姐(手機0963-363-727) /邱小姐(手機0988-090-226) 聯絡方式：電話 (麻煩盡量晚上時段) 房屋地點：台北市中正區金門街xx號3樓 （總樓層4樓，無電梯） 鄰近交通： 步行10分鐘內至捷運古亭站或台電大樓站、多路公車站(羅斯福 路金門街口)，5分鐘內至U-bike河堤國小站，交通非常便利。 公寓樓下有美廉社、洗衣店，鄰近超商、早餐店、小吃店、咖啡店、圖書館，生活機能超 佳。 所在樓層：3樓 (總樓層4樓，無電梯) 租金(月)：5000元/月 [補充說明：無獨立電表，水電費、瓦斯費、管理費等公共費用(皆依照台電/大台北瓦斯 帳單) 另外與三位室友們平均分攤，非夏季時每人約500元/月] 押 金：一個月租金 公共設施：前後陽台、客廳、廚房(可開伙)、冰箱、飲水機、浴室（四人共用一浴室，後 陽台另有一廁所可使用）、洗衣機 格局坪數：約2.8坪 隔間材質：水泥 (雅房有大對外窗採光佳，通風良好，環境幽靜) 能否接受寵物：很可惜不能... 參考圖片： https://drive.google.com/drive/mobile/folders/0B8jBKtqyIqhFQy15SjJnSnR0cmc [補充說明：照片內傢俱為原室友的。 雅房內提供的設備有桌椅，大木衣櫃，單人床架(不含床墊)] 三位室友廣播：我們是工作穩定、生活作息正常的小資女孩，歡迎願意長期居住、生活習 慣良好、有緣的妳加入我們喲~spanPTT雅房版 - https://www.ptt.cc/bbs/Rent_ya/M.1544425356.A.AC9.htmlspan[限女]中和環球-頂加不悶熱寬敞舒適span4.0span坪span$span5800span新北市中和區員山路467號span本套房限71年次以內之單身女性(18~36歲)，本套房為女性單身宿舍，限本人1人入住，禁止攜伴。謝謝! 本套房為頂樓加蓋，但因為旁邊就是員山森林公園，棟距又大， 且留了很大的空地所以很通風，歡迎親自看屋感受。 ◆生活機能佳： 位於員山路與台新街交叉口附近，307公車站牌旁(員山站)， 走路到環球購物中心只要5分鐘，喝下午茶逛街好愜意! 坐307公車到板橋捷運站約15分鐘，到台北市好快速。 近遠東世紀廣場工業區，坐公車4站即達。 旁邊有頂好超市、全聯、麥當勞，對面就是OK便利商店， 離民安街夜市走路3分鐘，吃宵夜、借DVD漫畫小說好方便! 旁邊就是警察局，夜間回家安全無虞。 ◆特色描述: 本套房位於3樓，是頂樓加蓋，總共3間，僅有一間出租(位於中間)。 一般頂樓加蓋最怕夏天悶熱， 但本套房旁邊就是員山森林公園，棟距又大， 且留了非常大的空地所以很通風，歡迎親自看屋。 並採8坪用的大噸數冷氣，可快速降溫， 建議一開始先將溫度降至26度，再往上調至27度搭配電風扇跟涼蓆，這樣又涼又省電， 實測結果：27度，晚上9:30開至隔天早上7:00是2.5度*5元 13元，等於一個月冷氣電費約400元，很省電。 本套房堅持出入人口單純，也請入住的您遵守規定。 衛浴、家電都相當新，有對外窗。 還有一個公用大陽台可以種花、曬衣。 隔間採用雙層水泥板+隔音泡棉(非水泥磚牆隔間)，所以隔音不會跟水泥磚牆一樣好唷! ◆房間設備: 附東元小鮮綠冰箱、25吋液晶電視(收看MOD基本台數，非第四台)、冷氣，免費寬頻網路及WIFI， 附公用洗衣機免投幣， 恆溫電熱水器讓洗澡不會忽冷忽熱， 且水量充沛，不會有水太小的問題。 獨立電表(1度5元)。 這間外面行情至少7000元的獨立套房， 現在只要5800元就可以住到了! 房東降低租金只求找到有緣好房客，以下三點要求請您遵守： 1、希望租給品行良好、正職工作穩定、單純好相處的女生朋友。 2、租期至少1年。 3、為維護全部女性房客權益，限本人1人入住，禁止攜伴。 這裡交通便利安全、生活機能好，歡迎電話預約看屋! 請電 *李小姐，請於AM8:00~PM8:00來電，謝謝!span591 - https://rent.591.com.tw/rent-detail-7121306.htmlspan優質溫泉湯池景觀宅span31.0span坪span$span24000span新北市八里區訊埔路span權狀45坪 廳大 房大 浴室大 公設完善 公設比相對低 位於商港路、中華路口 直接上下64號八里新店快速道路 20分鐘直達台北市中心、桃園機場 稀有溫泉養生好宅 泉質為又稱黃金美人湯的鐵碳酸氫鹽泉 細潤滑順 一戶一湯屋 除家中湯屋外還可使用社區星空溫泉湯屋 一戶一畝田 樓上配有一畝田 可種菜養花蒔草 增加生活樂趣 頂樓視野、採光、通風均佳 俯瞰台北港 遠眺淡水河口 適合養生、度假、休閒、新婚或公司宿舍、行館 歡迎有緣人 免仲介服務費span591 - https://rent.591.com.tw/rent-detail-7076827.htmlspan蘇州庭院5F超幽靜適合全家福空間超大span30.0span坪span$span13000span基隆市七堵區東新街89巷21號span請注意: 要求帶看前 請一定要看完以下屋況說明 LINE ID：soft5153 對不起: 為維持居住品質 所有房客的身分皆會過濾 以確保安全 本屋全面禁寵物 所以無法出租給養貓狗蛇的朋友 拒絕出租給違法 違背善良風俗、酗酒、賭博、吸毒的公司及個人 或與他人有 債務 感情 糾紛 皆拒絕出租 僅限住四人 若超過 會增加租金 17000可以接受短租 但會增加租金 17000 (免管理費) 我的房子距基隆商工約150公尺 位於山腰上 高約30公尺 不適合老人 因須爬坡 有點偏遠 但治安很好 本房屋只出租給善良人士，並請各位房客務必遵守規定，若無法遵守，請勿向本人租屋。 5日前承租 優惠只要11000 簽三年可享第一個月免租金 請注意: 可立刻入住 若要帶看 請先說明 1.您要承租的起日 2.您要承租的承租期間 3.您的公司行號名稱 4.您公司的地點 之前有當駐台北辦事處的辦公室兼出差住宿用 因本物件可以登記公司使用 全新整理 可使用空間為60坪 獨享30坪頂樓大陽台 頂樓當空中花園 可以種花種菜 想要靠近台北市 汐止南港內湖松山 有一間超低價的住家嗎? 請選我 基隆市七堵區東新街89巷21之4號五樓 準沒錯 地點超好! 五樓會有點高 但空氣和視野很好 (六樓陽台可開Party) 蘇州庭院 七堵區東新街89巷21之4號五樓 附加頂樓加蓋 空間超大近七堵車站，道路旁好停車又安全寧靜 隱密性佳 ：家俱家電齊全，裝潢好，設備俱全， 人來就好，一卡皮箱即可入住。 每個房間皆有對外窗，景觀超好 空氣對流佳，沒有漏水 每間房都有冷氣 本屋保證無任何非自然事故發生 限善良人士承租 適合 中小家庭 員工宿舍 ;學生宿舍 周邊：青山綠地，適合散步放鬆身心。近基隆商工旁 附近有OK便利商店。 6分鐘到公車站 12分鐘到火車站 (步行) 我們的客戶 1. 鐵路局及中華電信及包商 短期施工(因空間大) 陽明海運 鐵路局 中華電信 味丹公司 合邦國際 六堵工業區 員工 2. 學生 團體租屋當宿舍 (因為分攤後很便宜) 3. 基隆商工 明德國中 長興國小老師 4. 一般家庭 (5人 可利用空間大) 5. 汐科內科台北市上班族 私人公司 6.台鐵員工 合租 7.企業老闆 商務人士 8.LongStay 家庭團體 14.中南部公司 設置台北區短期辦公室兼住宿使用 15.租不起台北的辦公室 公寓 可租我的房子當辦公室兼住宿 十分抱歉 房客租屋注意事項： （1）要簽約請帶身分證影本乙份 （2）請務必要準備足2個月押金，謝謝您配合。 (3) 本人是屋主非仲介 不會收取仲介費 (4) 台鐵員工基隆商工 明德國中 長興國小老師承租可享500優惠 (5) 限於法規 無法接受日租 ; 租期以月為單位 看屋請先LINE預約 因我在上班 無法隨時帶看房屋 抱歉,謝謝 LINE ID: soft5153 若要約看房屋 務必守信 不要爽約 帶看不收任何費用 看屋時間 限 星期六日 或下班時間 或電話 * 高先生 日 或 * 夜 或 email 給本人高先生 *@*. 退租前一個月 要可以讓房東帶看新的房客 缺點:基隆下雨時 會潮濕 ; 優點:有頂樓加蓋可以利用 Good house for rent Maison à louer Zimmer zu vermieten 良い部屋は賃貸しします 좋은 집 임대 If you have house in your country. (Japan , Korea, Germany , France) We can exchange the house for one month. Property Information: Room Size: 30 ping ; (100sqm) 4 Room 30 min drive to Taipei downtown. 10 min drive to Keelung downtown. Traditional Taiwan old house AC, washer, fridge, double bed, bath set. Good credit history . 24 hours convenient store is nearby as well as restaurants. Rate: 5~30 nights: US$70/night 30+ nights: US$50/night Minimum booking is 5 nights. Please use Line first. My LineID: soft5153 Mr. Gau ; Tel * 部屋の情報： 部屋の大きさ：30 pingを実行。 （130sqm） 30分には、台北の繁華街へは車。 10分は基隆の繁華街へは車。 伝統的な台湾の古い家 AC、洗濯機、冷蔵庫、ダブルベッド、お風呂セット。 禁煙なし、ペット、良好な信用履歴。 24時間コンビニはレストランだけでなく、近くにあります。 レート： 5〜30泊：US $70 /一泊 30+夜：US $50/一泊 最小の予約は5泊です。 最初の行を使用してください。 私のLINE ID：soft5153 Mr. Gau ; Tel * * English 日本語 OK !!span591 - https://rent.591.com.tw/rent-detail-7105526.htmlspan將此租屋搜尋結果分享至Facebook\n"
     ]
    }
   ],
   "source": [
    "#台北市宿舍租屋資訊\n",
    "\n",
    "#try\n",
    "#爬取全部原始碼\n",
    "from bs4 import BeautifulSoup\n",
    "from urllib.request import urlopen\n",
    "\n",
    "html = urlopen(\"https://tw.mixrent.com/search.php?q=%E5%8F%B0%E5%8C%97%E5%B8%82%E5%AE%BF%E8%88%8D&pmin=&pmax=&smin=&smax=&page=1\").read().decode('utf-8')\n",
    "soup = BeautifulSoup(html, features='lxml')\n",
    "# use class to narrow search\n",
    "month = soup.find_all('div', {\"id\": \"search_box\"})\n",
    "for m in month:\n",
    "    print(\n",
    "        m.get_text('a', 'house_title'),\n",
    "        m.get_text('span', 'label label-primary')\n",
    "   )"
   ]
  },
  {
   "cell_type": "code",
   "execution_count": null,
   "metadata": {},
   "outputs": [],
   "source": []
  }
 ],
 "metadata": {
  "kernelspec": {
   "display_name": "Python 3",
   "language": "python",
   "name": "python3"
  },
  "language_info": {
   "codemirror_mode": {
    "name": "ipython",
    "version": 3
   },
   "file_extension": ".py",
   "mimetype": "text/x-python",
   "name": "python",
   "nbconvert_exporter": "python",
   "pygments_lexer": "ipython3",
   "version": "3.7.0"
  }
 },
 "nbformat": 4,
 "nbformat_minor": 2
}
