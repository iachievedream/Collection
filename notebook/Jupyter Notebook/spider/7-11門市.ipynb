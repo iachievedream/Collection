{
 "cells": [
  {
   "cell_type": "markdown",
   "metadata": {},
   "source": [
    "[爬蟲]如何用Python蒐集7-11的門市資料?\n",
    "http://bhan0507.logdown.com/posts/1388351-crawler-how-to-store-data-with-python-collection-7-11"
   ]
  },
  {
   "cell_type": "code",
   "execution_count": 1,
   "metadata": {},
   "outputs": [
    {
     "name": "stdout",
     "output_type": "stream",
     "text": [
      " 0) 基隆市     72\n",
      " 1) 台北市    765\n",
      " 2) 新北市    901\n",
      " 3) 桃園市    602\n",
      " 4) 新竹市    140\n",
      " 5) 新竹縣    159\n",
      " 6) 苗栗縣    106\n",
      " 7) 台中市    659\n",
      " 8) 彰化縣    192\n",
      " 9) 雲林縣    102\n",
      "10) 南投縣     90\n",
      "11) 嘉義縣     88\n",
      "12) 嘉義市     57\n",
      "13) 台南市    453\n",
      "14) 高雄市    528\n",
      "15) 屏東縣    146\n",
      "16) 台東縣     54\n",
      "17) 花蓮縣     85\n",
      "18) 宜蘭縣     89\n",
      "19) 連江縣      8\n",
      "20) 金門縣     16\n",
      "21) 澎湖縣     26\n"
     ]
    }
   ],
   "source": [
    "import requests\n",
    "import pandas as pd\n",
    "\n",
    "# 建立一個縣市的list\n",
    "\n",
    "city = [\n",
    "    '基隆市',\n",
    "    '台北市',\n",
    "    '新北市',\n",
    "    '桃園市',\n",
    "    '新竹市',\n",
    "    '新竹縣',\n",
    "    '苗栗縣',\n",
    "    '台中市',\n",
    "    '彰化縣',\n",
    "    '雲林縣',\n",
    "    '南投縣',\n",
    "    '嘉義縣',\n",
    "    '嘉義市',\n",
    "    '台南市',\n",
    "    '高雄市',\n",
    "    '屏東縣',\n",
    "    '台東縣',\n",
    "    '花蓮縣',\n",
    "    '宜蘭縣',\n",
    "    '連江縣',\n",
    "    '金門縣',\n",
    "    '澎湖縣'\n",
    "]\n",
    "\n",
    "#使用迴圈來依序取得每一個城市的門市資訊\n",
    "\n",
    "for index, city in enumerate(city):\n",
    "    \n",
    "    #剛剛在開發者模式觀察到的Post發出的資訊是那些\n",
    "\n",
    "    data = {\n",
    "        'strTargetField':'COUNTY',\n",
    "        'strKeyWords':'%s' % city\n",
    "    }\n",
    "\n",
    "    res = requests.post('http://www.ibon.com.tw/retail_inquiry_ajax.aspx', data=data)\n",
    "    \n",
    "    # 第一次迴圈建立dataframe，並將城市填入。資料的形式是table，所以直接使用read_html快速拿下!\n",
    "\n",
    "    if index == 0:\n",
    "        df_711_store = pd.read_html(res.text, header=0)[0]\n",
    "        df_711_store['縣市'] = city\n",
    "     \n",
    "    # 第二次迴圈以上就將資訊直接append到dataframe裡\n",
    "\n",
    "    if index > 0:\n",
    "        df_711_store_ = pd.read_html(res.text, header=0)[0]\n",
    "        df_711_store_['縣市'] = city\n",
    "        df_711_store = df_711_store.append(df_711_store_)\n",
    "    \n",
    "    #打印出進度\n",
    "\n",
    "    print('%2d) %-*s %4d' % (index, 5, city, pd.read_html(res.text, header=0)[0].shape[0]))\n",
    "\n",
    "#將資料輸出成Excel\n",
    "\n",
    "df_711_store.to_excel('7-11門市.xlsx', encoding=\"UTF-8\", index=False)"
   ]
  },
  {
   "cell_type": "code",
   "execution_count": null,
   "metadata": {},
   "outputs": [],
   "source": []
  }
 ],
 "metadata": {
  "kernelspec": {
   "display_name": "Python 3",
   "language": "python",
   "name": "python3"
  },
  "language_info": {
   "codemirror_mode": {
    "name": "ipython",
    "version": 3
   },
   "file_extension": ".py",
   "mimetype": "text/x-python",
   "name": "python",
   "nbconvert_exporter": "python",
   "pygments_lexer": "ipython3",
   "version": "3.7.0"
  }
 },
 "nbformat": 4,
 "nbformat_minor": 2
}
