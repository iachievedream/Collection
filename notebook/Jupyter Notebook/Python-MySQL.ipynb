{
 "cells": [
  {
   "cell_type": "markdown",
   "metadata": {},
   "source": [
    "Python MySQL mysql-connector 驱动 \n",
    "http://www.runoob.com/python3/python-mysql-connector.html\n",
    "\n",
    "pip3 install PyMySQL\n",
    "\n",
    "我们可以使用 pip 命令来安装 mysql-connector： \n",
    "python -m pip install mysql-connector"
   ]
  },
  {
   "cell_type": "code",
   "execution_count": 2,
   "metadata": {},
   "outputs": [],
   "source": [
    "#使用以下代码测试 mysql-connector 是否安装成功：demo_mysql_test.py:\n",
    "import mysql.connector\n",
    "#执行以上代码，如果没有产生错误，表明安装成功。"
   ]
  },
  {
   "cell_type": "code",
   "execution_count": 1,
   "metadata": {},
   "outputs": [
    {
     "name": "stdout",
     "output_type": "stream",
     "text": [
      "<mysql.connector.connection.MySQLConnection object at 0x0000022D631E1240>\n",
      "('information_schema',)\n",
      "('mydata',)\n",
      "('mysql',)\n",
      "('performance_schema',)\n",
      "('python',)\n",
      "('stockdatabase',)\n",
      "('sys',)\n"
     ]
    }
   ],
   "source": [
    "#Add database python\n",
    "import mysql.connector\n",
    "mydb = mysql.connector.connect(\n",
    "  host=\"localhost\",       # 数据库主机地址\n",
    "  user=\"root\",    # 数据库用户名\n",
    "  passwd=\"a1234567\"   # 数据库密码\n",
    ")\n",
    "print(mydb)\n",
    "\n",
    "mycursor = mydb.cursor()\n",
    "mycursor.execute(\"CREATE DATABASE python\") #Add database python\n",
    "\n",
    "mycursor.execute(\"SHOW DATABASES\") #see database\n",
    "for x in mycursor:\n",
    "  print(x)"
   ]
  },
  {
   "cell_type": "code",
   "execution_count": 2,
   "metadata": {},
   "outputs": [
    {
     "name": "stdout",
     "output_type": "stream",
     "text": [
      "<mysql.connector.connection.MySQLConnection object at 0x0000022D632D1128>\n",
      "('web',)\n"
     ]
    }
   ],
   "source": [
    "#Add table web\n",
    "\n",
    "import mysql.connector\n",
    "mydb = mysql.connector.connect(\n",
    "  host=\"localhost\",       # 数据库主机地址\n",
    "  user=\"root\",    # 数据库用户名\n",
    "  passwd=\"a1234567\",   # 数据库密码\n",
    "  database=\"python\"\n",
    ")\n",
    "print(mydb)\n",
    "\n",
    "mycursor = mydb.cursor()\n",
    "\n",
    "mycursor.execute(\"CREATE TABLE web (name VARCHAR(255), url VARCHAR(255))\") #Add table web\n",
    "#mycursor.execute(\"ALTER TABLE web ADD COLUMN id INT AUTO_INCREMENT PRIMARY KEY\")\n",
    "\n",
    "#>>mycursor.execute(\"CREATE TABLE web (id INT AUTO_INCREMENT PRIMARY KEY, name VARCHAR(255), url VARCHAR(255))\")\n",
    "\n",
    "mycursor.execute(\"SHOW TABLES\")\n",
    "for x in mycursor:\n",
    "  print(x)"
   ]
  },
  {
   "cell_type": "code",
   "execution_count": 3,
   "metadata": {},
   "outputs": [
    {
     "name": "stdout",
     "output_type": "stream",
     "text": [
      "1 记录插入成功。\n"
     ]
    },
    {
     "data": {
      "text/plain": [
       "'\\nsql = \"INSERT INTO web (name, url) VALUES (%s, %s)\"\\nval = [\\n  (\\'Google\\', \\'https://www.google.com\\'),\\n  (\\'Github\\', \\'https://www.github.com\\'),\\n  (\\'Taobao\\', \\'https://www.taobao.com\\'),\\n  (\\'stackoverflow\\', \\'https://www.stackoverflow.com/\\')\\n]\\nmycursor.executemany(sql, val)\\nmydb.commit()    # 数据表内容有更新，必须使用到该语句\\nprint(mycursor.rowcount, \"记录插入成功。\")\\n'"
      ]
     },
     "execution_count": 3,
     "metadata": {},
     "output_type": "execute_result"
    }
   ],
   "source": [
    "#INSERT INTOimport mysql.connector\n",
    "\n",
    "mydb = mysql.connector.connect(\n",
    "  host=\"localhost\",\n",
    "  user=\"root\",\n",
    "  passwd=\"a1234567\",\n",
    "  database=\"python\"\n",
    ")\n",
    "mycursor = mydb.cursor()\n",
    "\n",
    "sql = \"INSERT INTO web (name, url) VALUES (%s, %s)\"\n",
    "val = (\"RUNOOB\", \"https://www.runoob.com\")\n",
    "mycursor.execute(sql, val)\n",
    "mydb.commit()    # 数据表内容有更新，必须使用到该语句\n",
    "print(mycursor.rowcount, \"记录插入成功。\")\n",
    "\n",
    "\"\"\"\n",
    "sql = \"INSERT INTO web (name, url) VALUES (%s, %s)\"\n",
    "val = [\n",
    "  ('Google', 'https://www.google.com'),\n",
    "  ('Github', 'https://www.github.com'),\n",
    "  ('Taobao', 'https://www.taobao.com'),\n",
    "  ('stackoverflow', 'https://www.stackoverflow.com/')\n",
    "]\n",
    "mycursor.executemany(sql, val)\n",
    "mydb.commit()    # 数据表内容有更新，必须使用到该语句\n",
    "print(mycursor.rowcount, \"记录插入成功。\")\n",
    "\"\"\""
   ]
  },
  {
   "cell_type": "code",
   "execution_count": null,
   "metadata": {},
   "outputs": [],
   "source": []
  }
 ],
 "metadata": {
  "kernelspec": {
   "display_name": "Python 3",
   "language": "python",
   "name": "python3"
  },
  "language_info": {
   "codemirror_mode": {
    "name": "ipython",
    "version": 3
   },
   "file_extension": ".py",
   "mimetype": "text/x-python",
   "name": "python",
   "nbconvert_exporter": "python",
   "pygments_lexer": "ipython3",
   "version": "3.7.0"
  }
 },
 "nbformat": 4,
 "nbformat_minor": 2
}
